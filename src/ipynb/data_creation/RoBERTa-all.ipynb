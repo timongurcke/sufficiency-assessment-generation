{
 "cells": [
  {
   "cell_type": "code",
   "execution_count": null,
   "metadata": {},
   "outputs": [],
   "source": [
    "import pandas as pd\n",
    "import numpy as np\n",
    "from sklearn.model_selection import train_test_split\n",
    "import os\n",
    "import shutil\n",
    "import json\n",
    "import re\n",
    "\n",
    "pd.set_option('display.max_colwidth', None)"
   ]
  },
  {
   "cell_type": "code",
   "execution_count": null,
   "metadata": {},
   "outputs": [],
   "source": [
    "preds_dict = {}\n",
    "for i in range(5):\n",
    "    path = '../../../ceph_data/output/bart-AAE-v2-only-dot-direct-cola-au-full-mask-gen/{}/aee.preds'.format(i)\n",
    "    path2 = '../../../ceph_data/intermediate/bart-AAE-v2-only-dot-direct-cola-au-full-mask-gen/{}/test.target'.format(i)\n",
    "    with open(path, encoding='utf-8') as h:\n",
    "        preds = h.readlines()\n",
    "    with open(path2, encoding='utf-8') as f:\n",
    "        gts = f.readlines()\n",
    "    for pred, gt in zip(preds,gts):\n",
    "        preds_dict[gt.replace('\\n','')]=pred.replace('\\n','')"
   ]
  },
  {
   "cell_type": "code",
   "execution_count": null,
   "metadata": {},
   "outputs": [],
   "source": [
    "df_aae_full = pd.read_csv('../../../ceph_data/input/UKP-InsufficientArguments_v1.0/data-tokenized.tsv', sep='\\t', index_col=False, encoding='latin-1')\n",
    "df_aae = pd.read_json('../../../ceph_data/intermediate/corpus-ukp-argument-annotated-essays-v2/aae3.json')\n",
    "df_aae_invalid = pd.read_json('../../../ceph_data/intermediate/corpus-ukp-argument-annotated-essays-v2/aae3_invalid.json')\n",
    "df_aae_fixed = pd.read_json('../../../ceph_data/intermediate/corpus-ukp-argument-annotated-essays-v2/aae3_fixed.json')\n",
    "df_split = pd.read_csv('../../../ceph_data/input/UKP-InsufficientArguments_v1.0/data-splitting.tsv', sep='\\t', names=['index']+[str(i) for i in range(100)], index_col=False)\n",
    "\n",
    "df_aae_full['index'] = df_aae_full.apply(lambda x: 'essay{}_{}'.format(str(x['ESSAY']).zfill(3), x['ARGUMENT']), axis=1)\n",
    "df_aae_full['local_sufficency'] = df_aae_full['ANNOTATION'].apply(lambda x: 0 if x == 'insufficient' else 1)\n"
   ]
  },
  {
   "cell_type": "code",
   "execution_count": null,
   "metadata": {},
   "outputs": [],
   "source": [
    "df_aae_full_mask = pd.read_csv('df_aae_full_mask.csv')"
   ]
  },
  {
   "cell_type": "code",
   "execution_count": null,
   "metadata": {},
   "outputs": [],
   "source": [
    "df_aae_full_mask.head()"
   ]
  },
  {
   "cell_type": "code",
   "execution_count": null,
   "metadata": {},
   "outputs": [],
   "source": [
    "only_claims = list(set(df_aae_full['index']) - set(df_aae['index']) - set(df_aae_invalid['index']))\n",
    "df_aae_full_only_claims = df_aae_full[df_aae_full['index'].isin(only_claims)]"
   ]
  },
  {
   "cell_type": "code",
   "execution_count": null,
   "metadata": {},
   "outputs": [],
   "source": [
    "df_aae.columns"
   ]
  },
  {
   "cell_type": "code",
   "execution_count": null,
   "metadata": {},
   "outputs": [],
   "source": [
    "df_aae_full_only_claims.columns"
   ]
  },
  {
   "cell_type": "code",
   "execution_count": null,
   "metadata": {},
   "outputs": [],
   "source": [
    "df_aae_full_only_claims.head()"
   ]
  },
  {
   "cell_type": "code",
   "execution_count": null,
   "metadata": {},
   "outputs": [],
   "source": [
    "df_aae_invalid.columns"
   ]
  },
  {
   "cell_type": "code",
   "execution_count": null,
   "metadata": {},
   "outputs": [],
   "source": [
    "conclusions_dict = {}\n",
    "for i, row in df_aae.iterrows():\n",
    "    if row['index'] not in conclusions_dict:\n",
    "        conclusions_dict[row['index']] = []\n",
    "    conclusions_dict[row['index']].append(row['conclusion'])\n",
    "for i, row in df_aae_invalid.iterrows():\n",
    "    if row['index'] not in conclusions_dict:\n",
    "        conclusions_dict[row['index']] = []\n",
    "    conclusions_dict[row['index']].append(row['conclusion'])\n",
    "for i, row in df_aae_full_only_claims.iterrows():\n",
    "    if row['index'] not in conclusions_dict:\n",
    "        conclusions_dict[row['index']] = []\n",
    "    conclusions_dict[row['index']].append('')"
   ]
  },
  {
   "cell_type": "code",
   "execution_count": null,
   "metadata": {},
   "outputs": [],
   "source": [
    "replaced_text_dict = {}\n",
    "for index in df_aae_full_mask['index']:\n",
    "    rel_df = df_aae_full_mask[df_aae_full_mask['index']==index]\n",
    "    masked_text = None\n",
    "    j = 0\n",
    "    for i, row in rel_df.iterrows():\n",
    "        if masked_text == None:\n",
    "            masked_text = row['TEXT_MASK']\n",
    "        #print(conclusions_dict[row['index']])\n",
    "        #print(j)\n",
    "        if conclusions_dict[row['index']][j] in preds_dict:\n",
    "            masked_text = masked_text.replace('<mask>', '</s> '+conclusions_dict[row['index']][j]+' </s> ' + preds_dict[conclusions_dict[row['index']][j]] + ' </s>')\n",
    "        else:\n",
    "            masked_text = '</s> ' + row['TEXT'] + ' </s>'\n",
    "        masked_text = masked_text.replace('<unk>', '<mask>')\n",
    "        j += 1\n",
    "    replaced_text_dict[index] = masked_text"
   ]
  },
  {
   "cell_type": "code",
   "execution_count": null,
   "metadata": {},
   "outputs": [],
   "source": [
    "df_aae_full['REPLACED_TEXT'] = df_aae_full['index'].apply(lambda x: replaced_text_dict[x])"
   ]
  },
  {
   "cell_type": "code",
   "execution_count": null,
   "metadata": {},
   "outputs": [],
   "source": [
    "df_aae_full.sample(20)"
   ]
  },
  {
   "cell_type": "code",
   "execution_count": null,
   "metadata": {},
   "outputs": [],
   "source": [
    "df_aae_full[df_aae_full['index'].isin(df_aae_invalid['index'])]"
   ]
  },
  {
   "cell_type": "code",
   "execution_count": null,
   "metadata": {},
   "outputs": [],
   "source": []
  },
  {
   "cell_type": "code",
   "execution_count": null,
   "metadata": {},
   "outputs": [],
   "source": [
    "df_aae_full['placeholder1'] = np.arange(len(df_aae_full))\n",
    "df_aae_full['placeholder2'] = np.arange(len(df_aae_full))\n",
    "df_aae_full['placeholder3'] = np.arange(len(df_aae_full))\n",
    "\n",
    "path = '../../../ceph_data/intermediate/bert-AAE-v2-only-dot-direct-cola-au-full-both'\n",
    "if not os.path.exists(path):\n",
    "    os.mkdir(path)\n",
    "else:\n",
    "    shutil.rmtree(path)\n",
    "    os.mkdir(path)\n",
    "    \n",
    "path2 = '../../../ceph_data/output/bert-AAE-v2-only-dot-direct-cola-au-full-both'\n",
    "if not os.path.exists(path2):\n",
    "    os.mkdir(path2)\n",
    "else:\n",
    "    shutil.rmtree(path2)\n",
    "    os.mkdir(path2)\n",
    "\n",
    "for i in range(100):\n",
    "    if not os.path.exists(path+'/{}'.format(i)):\n",
    "        os.mkdir(path+'/{}'.format(i))\n",
    "    else:\n",
    "        shutil.rmtree(path+'/{}'.format(i))\n",
    "        os.mkdir(path+'/{}'.format(i))\n",
    "        \n",
    "    if not os.path.exists(path2+'/{}'.format(i)):\n",
    "        os.mkdir(path2+'/{}'.format(i))\n",
    "    else:\n",
    "        shutil.rmtree(path2+'/{}'.format(i))\n",
    "        os.mkdir(path2+'/{}'.format(i))\n",
    "    \n",
    "    split_dict = dict(zip(df_split['index'], df_split[str(i)]))\n",
    "    df_aae_full['split'] = df_aae_full['index'].apply(lambda x: split_dict[x])\n",
    "    df_aae_full[df_aae_full['split']=='TRAIN'][['local_sufficency','placeholder1','placeholder2','REPLACED_TEXT','placeholder3']].to_csv('../../../ceph_data/intermediate/bert-AAE-v2-only-dot-direct-cola-au-full-both/'+str(i)+'/train.tsv',sep='\\t', index=False)\n",
    "    df_aae_full[df_aae_full['split']=='DEV'][['local_sufficency','placeholder1','placeholder2','REPLACED_TEXT','placeholder3']].to_csv('../../../ceph_data/intermediate/bert-AAE-v2-only-dot-direct-cola-au-full-both/'+str(i)+'/dev.tsv',sep='\\t', index=False)\n",
    "    df_aae_full[df_aae_full['split']=='TEST'][['local_sufficency','placeholder1','placeholder2','REPLACED_TEXT','placeholder3']].to_csv('../../../ceph_data/intermediate/bert-AAE-v2-only-dot-direct-cola-au-full-both/'+str(i)+'/test.tsv',sep='\\t', index=False)\n"
   ]
  },
  {
   "cell_type": "code",
   "execution_count": null,
   "metadata": {},
   "outputs": [],
   "source": []
  }
 ],
 "metadata": {
  "kernelspec": {
   "display_name": "default",
   "language": "python",
   "name": "default"
  },
  "language_info": {
   "codemirror_mode": {
    "name": "ipython",
    "version": 3
   },
   "file_extension": ".py",
   "mimetype": "text/x-python",
   "name": "python",
   "nbconvert_exporter": "python",
   "pygments_lexer": "ipython3",
   "version": "3.6.9"
  }
 },
 "nbformat": 4,
 "nbformat_minor": 2
}
