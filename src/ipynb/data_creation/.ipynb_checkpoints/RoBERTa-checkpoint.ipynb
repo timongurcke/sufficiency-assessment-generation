{
 "cells": [
  {
   "cell_type": "code",
   "execution_count": 1,
   "metadata": {},
   "outputs": [],
   "source": [
    "import pandas as pd\n",
    "import numpy as np\n",
    "from sklearn.model_selection import train_test_split\n",
    "import os\n",
    "import shutil\n",
    "import json\n",
    "import re"
   ]
  },
  {
   "cell_type": "code",
   "execution_count": null,
   "metadata": {},
   "outputs": [],
   "source": [
    "pd.set_option('display.max_colwidth', None)\n",
    "df_aae = pd.read_csv('./aaev2_gen_context.csv')\n",
    "df_split = pd.read_csv('../../../ceph_data/input/UKP-InsufficientArguments_v1.0/data-splitting.tsv', sep='\\t', names=['index']+[str(i) for i in range(100)], index_col=False)"
   ]
  },
  {
   "cell_type": "code",
   "execution_count": 4,
   "metadata": {},
   "outputs": [],
   "source": [
    "df_aae.fillna('',inplace=True)"
   ]
  },
  {
   "cell_type": "code",
   "execution_count": 4,
   "metadata": {},
   "outputs": [],
   "source": [
    "import pandas as pd\n",
    "import numpy as np\n",
    "from sklearn.model_selection import train_test_split\n",
    "\n",
    "df_aae = pd.read_csv('../../../ceph_data/input/UKP-InsufficientArguments_v1.0/data-tokenized.tsv', sep='\\t', index_col=False, encoding='latin-1')\n",
    "df_split = pd.read_csv('../../../ceph_data/input/UKP-InsufficientArguments_v1.0/data-splitting.tsv', sep='\\t', names=['index']+[str(i) for i in range(100)], index_col=False)\n",
    "\n",
    "df_aae['local_sufficency'] = df_aae['ANNOTATION'].apply(lambda x: 0 if x == 'insufficient' else 1)\n",
    "df_aae['placeholder1'] = np.arange(len(df_aae))\n",
    "df_aae['placeholder2'] = np.arange(len(df_aae))\n",
    "df_aae['placeholder3'] = np.arange(len(df_aae))\n",
    "df_aae['index'] = df_aae.apply(lambda x: 'essay{}_{}'.format(str(x['ESSAY']).zfill(3), x['ARGUMENT']), axis=1)\n",
    "\n",
    "path = '../../../ceph_data/intermediate/bert-AAE-v2-only-dot-direct-cola-au-full'\n",
    "if not os.path.exists(path):\n",
    "    os.mkdir(path)\n",
    "else:\n",
    "    shutil.rmtree(path)\n",
    "    os.mkdir(path)\n",
    "    \n",
    "path2 = '../../../ceph_data/output/bert-AAE-v2-only-dot-direct-cola-au-full'\n",
    "if not os.path.exists(path):\n",
    "    os.mkdir(path)\n",
    "else:\n",
    "    shutil.rmtree(path)\n",
    "    os.mkdir(path)\n",
    "\n",
    "for i in range(100):\n",
    "    if not os.path.exists(path+'/{}'.format(i)):\n",
    "        os.mkdir(path+'/{}'.format(i))\n",
    "    else:\n",
    "        shutil.rmtree(path+'/{}'.format(i))\n",
    "        os.mkdir(path+'/{}'.format(i))\n",
    "        \n",
    "    if not os.path.exists(path2+'/{}'.format(i)):\n",
    "        os.mkdir(path2+'/{}'.format(i))\n",
    "    else:\n",
    "        shutil.rmtree(path2+'/{}'.format(i))\n",
    "        os.mkdir(path2+'/{}'.format(i))\n",
    "    \n",
    "    split_dict = dict(zip(df_split['index'], df_split[str(i)]))\n",
    "    df_aae['split'] = df_aae['index'].apply(lambda x: split_dict[x])\n",
    "    df_aae[df_aae['split']=='TRAIN'][['local_sufficency','placeholder1','placeholder2','TEXT','placeholder3']].to_csv('../../../ceph_data/intermediate/bert-AAE-v2-only-dot-direct-cola-au-full/'+str(i)+'/train.tsv',sep='\\t', index=False)\n",
    "    df_aae[df_aae['split']=='DEV'][['local_sufficency','placeholder1','placeholder2','TEXT','placeholder3']].to_csv('../../../ceph_data/intermediate/bert-AAE-v2-only-dot-direct-cola-au-full/'+str(i)+'/dev.tsv',sep='\\t', index=False)\n",
    "    df_aae[df_aae['split']=='TEST'][['local_sufficency','placeholder1','placeholder2','TEXT','placeholder3']].to_csv('../../../ceph_data/intermediate/bert-AAE-v2-only-dot-direct-cola-au-full/'+str(i)+'/test.tsv',sep='\\t', index=False)\n"
   ]
  },
  {
   "cell_type": "code",
   "execution_count": null,
   "metadata": {},
   "outputs": [],
   "source": []
  }
 ],
 "metadata": {
  "kernelspec": {
   "display_name": "default",
   "language": "python",
   "name": "default"
  },
  "language_info": {
   "codemirror_mode": {
    "name": "ipython",
    "version": 3
   },
   "file_extension": ".py",
   "mimetype": "text/x-python",
   "name": "python",
   "nbconvert_exporter": "python",
   "pygments_lexer": "ipython3",
   "version": "3.6.9"
  }
 },
 "nbformat": 4,
 "nbformat_minor": 2
}
