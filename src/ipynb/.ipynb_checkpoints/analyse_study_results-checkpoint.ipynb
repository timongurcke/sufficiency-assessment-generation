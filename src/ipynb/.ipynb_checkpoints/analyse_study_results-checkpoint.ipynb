{
 "cells": [
  {
   "cell_type": "markdown",
   "metadata": {},
   "source": [
    "## Aligning Study Results"
   ]
  },
  {
   "cell_type": "code",
   "execution_count": 27,
   "metadata": {},
   "outputs": [],
   "source": [
    "from collections import Counter\n",
    "import pandas as pd\n",
    "import numpy as np\n",
    "import krippendorff\n",
    "pd.set_option('display.max_colwidth', None)"
   ]
  },
  {
   "cell_type": "code",
   "execution_count": 4,
   "metadata": {},
   "outputs": [],
   "source": [
    "study_1_df = pd.read_csv('../../../docs/Claim_Annotation_Study_part_12021-07-12_07_03_01.csv')\n",
    "study_2_df = pd.read_csv('../../../docs/Claim_Annotation_Study_part_22021-07-12_07_51_20.csv')\n",
    "study_3_df = pd.read_csv('../../../docs/Claim_Annotation_Study_part_32021-07-12_16_55_48.csv')\n",
    "study_4_df = pd.read_csv('../../../docs/Claim_Annotation_Study_part_42021-07-12_16_53_27.csv')"
   ]
  },
  {
   "cell_type": "code",
   "execution_count": 5,
   "metadata": {},
   "outputs": [],
   "source": [
    "study_1_df['Submission Date'] = study_1_df['Submission Date'].apply(lambda x: x[:-3])\n",
    "study_2_df['Submission Date'] = study_2_df['Submission Date'].apply(lambda x: x[:-3])\n",
    "study_3_df['Submission Date'] = study_3_df['Submission Date'].apply(lambda x: x[:-3])\n",
    "study_4_df['Submission Date'] = study_4_df['Submission Date'].apply(lambda x: x[:-3])"
   ]
  },
  {
   "cell_type": "code",
   "execution_count": 6,
   "metadata": {},
   "outputs": [],
   "source": [
    "study_1_df.drop_duplicates(['Submission Date','Submission IP'],inplace=True)\n",
    "study_2_df.drop_duplicates(['Submission Date','Submission IP'],inplace=True)\n",
    "study_3_df.drop_duplicates(['Submission Date','Submission IP'],inplace=True)\n",
    "study_4_df.drop_duplicates(['Submission Date','Submission IP'],inplace=True)\n",
    "\n",
    "study_1_df.fillna('nan', inplace=True)\n",
    "study_2_df.fillna('nan', inplace=True)\n",
    "study_3_df.fillna('nan', inplace=True)\n",
    "study_4_df.fillna('nan', inplace=True)"
   ]
  },
  {
   "cell_type": "code",
   "execution_count": 7,
   "metadata": {},
   "outputs": [
    {
     "name": "stdout",
     "output_type": "stream",
     "text": [
      "(6, 229)\n",
      "(6, 227)\n",
      "(6, 229)\n",
      "(6, 229)\n"
     ]
    }
   ],
   "source": [
    "print(study_1_df.shape)\n",
    "print(study_2_df.shape)\n",
    "print(study_3_df.shape)\n",
    "print(study_4_df.shape)"
   ]
  },
  {
   "cell_type": "code",
   "execution_count": 8,
   "metadata": {},
   "outputs": [],
   "source": [
    "columns_lists = [study_1_df.columns,study_2_df.columns,study_3_df.columns,study_4_df.columns]"
   ]
  },
  {
   "cell_type": "code",
   "execution_count": 9,
   "metadata": {},
   "outputs": [],
   "source": [
    "all_columns = list(set(list(study_1_df.columns)+list(study_2_df.columns)+list(study_3_df.columns)+list(study_4_df.columns)))"
   ]
  },
  {
   "cell_type": "code",
   "execution_count": 10,
   "metadata": {},
   "outputs": [],
   "source": [
    "columns = list(set.intersection(*[set(x) for x in columns_lists]))"
   ]
  },
  {
   "cell_type": "code",
   "execution_count": 11,
   "metadata": {},
   "outputs": [
    {
     "data": {
      "text/plain": [
       "['Last Update Date', 'Submission ID']"
      ]
     },
     "execution_count": 11,
     "metadata": {},
     "output_type": "execute_result"
    }
   ],
   "source": [
    "list(set(all_columns) - set(columns))"
   ]
  },
  {
   "cell_type": "code",
   "execution_count": 12,
   "metadata": {},
   "outputs": [],
   "source": [
    "study_1_df.loc[study_1_df['Submission Date']=='2021/07/11 18:17','Submission IP'] = study_1_df[study_1_df['Submission Date']=='2021/07/11 18:17']['Submission IP']+'_2'\n",
    "study_2_df.loc[study_2_df['Submission Date']=='2021/07/11 20:03','Submission IP'] = study_2_df[study_2_df['Submission Date']=='2021/07/11 20:03']['Submission IP']+'_2'\n",
    "study_3_df.loc[study_3_df['Submission Date']=='2021/07/11 20:27','Submission IP'] = study_3_df[study_3_df['Submission Date']=='2021/07/11 20:27']['Submission IP']+'_2'\n",
    "study_4_df.loc[study_4_df['Submission Date']=='2021/07/11 19:27','Submission IP'] = study_4_df[study_4_df['Submission Date']=='2021/07/11 19:27']['Submission IP']+'_2'\n",
    "\n",
    "study_3_df.loc[study_3_df['Submission IP']=='95.222.29.112','Submission IP'] = '94.114.198.82'\n",
    "study_4_df.loc[study_4_df['Submission IP']=='95.222.29.112','Submission IP'] = '94.114.198.82'"
   ]
  },
  {
   "cell_type": "code",
   "execution_count": 13,
   "metadata": {},
   "outputs": [],
   "source": [
    "ip_lists = [study_1_df['Submission IP'].tolist(),study_2_df['Submission IP'].tolist(),study_3_df['Submission IP'].tolist(),study_4_df['Submission IP'].tolist()]"
   ]
  },
  {
   "cell_type": "code",
   "execution_count": 14,
   "metadata": {},
   "outputs": [],
   "source": [
    "ips = list(set.intersection(*[set(x) for x in ip_lists]))"
   ]
  },
  {
   "cell_type": "code",
   "execution_count": 15,
   "metadata": {},
   "outputs": [],
   "source": [
    "ips = set(ips) - set(['93.231.74.101'])"
   ]
  },
  {
   "cell_type": "code",
   "execution_count": 16,
   "metadata": {},
   "outputs": [],
   "source": [
    "answer_columns = list(set(all_columns) - set(['Submission ID', 'Last Update Date', 'Submission IP', 'Submission Date']))"
   ]
  },
  {
   "cell_type": "code",
   "execution_count": 17,
   "metadata": {},
   "outputs": [],
   "source": [
    "study_1_df = study_1_df[study_1_df['Submission IP'].isin(ips)]\n",
    "study_1_df.drop(['Submission ID', 'Last Update Date', 'Submission Date'], axis=1, inplace=True)\n",
    "study_2_df = study_2_df[study_2_df['Submission IP'].isin(ips)]\n",
    "study_2_df.drop(['Submission Date'], axis=1, inplace=True)\n",
    "study_3_df = study_3_df[study_3_df['Submission IP'].isin(ips)]\n",
    "study_3_df.drop(['Submission ID', 'Last Update Date', 'Submission Date'], axis=1, inplace=True)\n",
    "study_4_df = study_4_df[study_4_df['Submission IP'].isin(ips)]\n",
    "study_4_df.drop(['Submission ID', 'Last Update Date', 'Submission Date'], axis=1, inplace=True)"
   ]
  },
  {
   "cell_type": "code",
   "execution_count": 18,
   "metadata": {},
   "outputs": [],
   "source": [
    "for column in study_2_df.columns:\n",
    "    if column in answer_columns:\n",
    "        study_2_df.rename(columns={column: str(int(column.split('.')[0])+25)+'.'+'.'.join(column.split('.')[1:])}, inplace=True)\n",
    "for column in study_3_df.columns:\n",
    "    if column in answer_columns:\n",
    "        study_3_df.rename(columns={column: str(int(column.split('.')[0])+50)+'.'+'.'.join(column.split('.')[1:])}, inplace=True)\n",
    "for column in study_4_df.columns:\n",
    "    if column in answer_columns:\n",
    "        study_4_df.rename(columns={column: str(int(column.split('.')[0])+75)+'.'+'.'.join(column.split('.')[1:])}, inplace=True)"
   ]
  },
  {
   "cell_type": "code",
   "execution_count": 19,
   "metadata": {},
   "outputs": [],
   "source": [
    "merged_df = pd.merge(study_1_df, study_2_df, on=\"Submission IP\")\n",
    "merged_df = pd.merge(merged_df, study_3_df, on=\"Submission IP\")\n",
    "merged_df = pd.merge(merged_df, study_4_df, on=\"Submission IP\")"
   ]
  },
  {
   "cell_type": "code",
   "execution_count": 20,
   "metadata": {},
   "outputs": [
    {
     "data": {
      "text/html": [
       "<div>\n",
       "<style scoped>\n",
       "    .dataframe tbody tr th:only-of-type {\n",
       "        vertical-align: middle;\n",
       "    }\n",
       "\n",
       "    .dataframe tbody tr th {\n",
       "        vertical-align: top;\n",
       "    }\n",
       "\n",
       "    .dataframe thead th {\n",
       "        text-align: right;\n",
       "    }\n",
       "</style>\n",
       "<table border=\"1\" class=\"dataframe\">\n",
       "  <thead>\n",
       "    <tr style=\"text-align: right;\">\n",
       "      <th></th>\n",
       "      <th>Submission IP</th>\n",
       "      <th>2.2.1 Are the premises sufficient to draw the conclusion?</th>\n",
       "      <th>2.2.2 How likely is it that the claim will be inferred from the context?</th>\n",
       "      <th>1.2.1 Are the premises sufficient to draw the conclusion?</th>\n",
       "      <th>19.3.3 How can the claim be composed from the context?</th>\n",
       "      <th>5.3.1 Are the premises sufficient to draw the conclusion?</th>\n",
       "      <th>6.2.1 Are the premises sufficient to draw the conclusion?</th>\n",
       "      <th>17.3.3 How can the claim be composed from the context?</th>\n",
       "      <th>5.1.1 Are the premises sufficient to draw the conclusion?</th>\n",
       "      <th>5.3.2 How likely is it that the claim will be inferred from the context?</th>\n",
       "      <th>...</th>\n",
       "      <th>76.3.2 How likely is it that the claim will be inferred from the context?</th>\n",
       "      <th>100.1.3 How can the claim be composed from the context?</th>\n",
       "      <th>87.3.2 How likely is it that the claim will be inferred from the context?</th>\n",
       "      <th>76.3.3 How can the claim be composed from the context?</th>\n",
       "      <th>76.1.1 Are the premises sufficient to draw the conclusion?</th>\n",
       "      <th>77.1.1 Are the premises sufficient to draw the conclusion?</th>\n",
       "      <th>77.1.2 How likely is it that the claim will be inferred from the context?</th>\n",
       "      <th>76.1.2 How likely is it that the claim will be inferred from the context?</th>\n",
       "      <th>77.1.3 How can the claim be composed from the context?</th>\n",
       "      <th>76.1.3 How can the claim be composed from the context?</th>\n",
       "    </tr>\n",
       "  </thead>\n",
       "  <tbody>\n",
       "    <tr>\n",
       "      <th>0</th>\n",
       "      <td>95.222.24.213</td>\n",
       "      <td>1 (not sufficient)</td>\n",
       "      <td>3 (possible)</td>\n",
       "      <td>4 (rather sufficient)</td>\n",
       "      <td>4 (inference)</td>\n",
       "      <td>4 (rather sufficient)</td>\n",
       "      <td>2 (rather insufficient)</td>\n",
       "      <td>4 (inference)</td>\n",
       "      <td>3 (undecided)</td>\n",
       "      <td>4 (likely)</td>\n",
       "      <td>...</td>\n",
       "      <td>4 (likely)</td>\n",
       "      <td>4 (inference)</td>\n",
       "      <td>3 (possible)</td>\n",
       "      <td>4 (inference)</td>\n",
       "      <td>2 (rather insufficient)</td>\n",
       "      <td>1 (not sufficient)</td>\n",
       "      <td>2 (unlikely)</td>\n",
       "      <td>4 (likely)</td>\n",
       "      <td>4 (inference)</td>\n",
       "      <td>4 (inference)</td>\n",
       "    </tr>\n",
       "    <tr>\n",
       "      <th>1</th>\n",
       "      <td>37.201.154.50</td>\n",
       "      <td>4 (rather sufficient)</td>\n",
       "      <td>4 (likely)</td>\n",
       "      <td>4 (rather sufficient)</td>\n",
       "      <td>4 (inference)</td>\n",
       "      <td>4 (rather sufficient)</td>\n",
       "      <td>4 (rather sufficient)</td>\n",
       "      <td>5 (can't be composed)</td>\n",
       "      <td>3 (undecided)</td>\n",
       "      <td>4 (likely)</td>\n",
       "      <td>...</td>\n",
       "      <td>3 (possible)</td>\n",
       "      <td>4 (inference)</td>\n",
       "      <td>3 (possible)</td>\n",
       "      <td>4 (inference)</td>\n",
       "      <td>3 (undecided)</td>\n",
       "      <td>3 (undecided)</td>\n",
       "      <td>3 (possible)</td>\n",
       "      <td>3 (possible)</td>\n",
       "      <td>4 (inference)</td>\n",
       "      <td>4 (inference)</td>\n",
       "    </tr>\n",
       "    <tr>\n",
       "      <th>2</th>\n",
       "      <td>93.225.53.68_2</td>\n",
       "      <td>3 (undecided)</td>\n",
       "      <td>4 (likely)</td>\n",
       "      <td>5 (sufficient)</td>\n",
       "      <td>3 (copying + fusion)</td>\n",
       "      <td>3 (undecided)</td>\n",
       "      <td>2 (rather insufficient)</td>\n",
       "      <td>4 (inference)</td>\n",
       "      <td>5 (sufficient)</td>\n",
       "      <td>3 (possible)</td>\n",
       "      <td>...</td>\n",
       "      <td>5  (very likely)</td>\n",
       "      <td>4 (inference)</td>\n",
       "      <td>3 (possible)</td>\n",
       "      <td>2 (synonymous copying)</td>\n",
       "      <td>4 (rather sufficient)</td>\n",
       "      <td>3 (undecided)</td>\n",
       "      <td>3 (possible)</td>\n",
       "      <td>4 (likely)</td>\n",
       "      <td>4 (inference)</td>\n",
       "      <td>2 (synonymous copying)</td>\n",
       "    </tr>\n",
       "    <tr>\n",
       "      <th>3</th>\n",
       "      <td>93.225.53.68</td>\n",
       "      <td>3 (undecided)</td>\n",
       "      <td>2 (unlikely)</td>\n",
       "      <td>4 (rather sufficient)</td>\n",
       "      <td>4 (inference)</td>\n",
       "      <td>4 (rather sufficient)</td>\n",
       "      <td>4 (rather sufficient)</td>\n",
       "      <td>4 (inference)</td>\n",
       "      <td>2 (rather insufficient)</td>\n",
       "      <td>4 (likely)</td>\n",
       "      <td>...</td>\n",
       "      <td>3 (possible)</td>\n",
       "      <td>4 (inference)</td>\n",
       "      <td>3 (possible)</td>\n",
       "      <td>3 (copying + fusion)</td>\n",
       "      <td>3 (undecided)</td>\n",
       "      <td>3 (undecided)</td>\n",
       "      <td>4 (likely)</td>\n",
       "      <td>4 (likely)</td>\n",
       "      <td>4 (inference)</td>\n",
       "      <td>4 (inference)</td>\n",
       "    </tr>\n",
       "    <tr>\n",
       "      <th>4</th>\n",
       "      <td>94.114.198.82</td>\n",
       "      <td>3 (undecided)</td>\n",
       "      <td>3 (possible)</td>\n",
       "      <td>4 (rather sufficient)</td>\n",
       "      <td>4 (inference)</td>\n",
       "      <td>1 (not sufficient)</td>\n",
       "      <td>4 (rather sufficient)</td>\n",
       "      <td>4 (inference)</td>\n",
       "      <td>3 (undecided)</td>\n",
       "      <td>1 (very unlikely)</td>\n",
       "      <td>...</td>\n",
       "      <td>4 (likely)</td>\n",
       "      <td>4 (inference)</td>\n",
       "      <td>4 (likely)</td>\n",
       "      <td>4 (inference)</td>\n",
       "      <td>4 (rather sufficient)</td>\n",
       "      <td>4 (rather sufficient)</td>\n",
       "      <td>3 (possible)</td>\n",
       "      <td>3 (possible)</td>\n",
       "      <td>4 (inference)</td>\n",
       "      <td>4 (inference)</td>\n",
       "    </tr>\n",
       "  </tbody>\n",
       "</table>\n",
       "<p>5 rows × 901 columns</p>\n",
       "</div>"
      ],
      "text/plain": [
       "    Submission IP 2.2.1 Are the premises sufficient to draw the conclusion?  \\\n",
       "0   95.222.24.213                                        1 (not sufficient)   \n",
       "1   37.201.154.50                                     4 (rather sufficient)   \n",
       "2  93.225.53.68_2                                             3 (undecided)   \n",
       "3    93.225.53.68                                             3 (undecided)   \n",
       "4   94.114.198.82                                             3 (undecided)   \n",
       "\n",
       "  2.2.2 How likely is it that the claim will be inferred from the context?  \\\n",
       "0                                                             3 (possible)   \n",
       "1                                                               4 (likely)   \n",
       "2                                                               4 (likely)   \n",
       "3                                                             2 (unlikely)   \n",
       "4                                                             3 (possible)   \n",
       "\n",
       "  1.2.1 Are the premises sufficient to draw the conclusion?  \\\n",
       "0                                     4 (rather sufficient)   \n",
       "1                                     4 (rather sufficient)   \n",
       "2                                            5 (sufficient)   \n",
       "3                                     4 (rather sufficient)   \n",
       "4                                     4 (rather sufficient)   \n",
       "\n",
       "  19.3.3 How can the claim be composed from the context?  \\\n",
       "0                                          4 (inference)   \n",
       "1                                          4 (inference)   \n",
       "2                                   3 (copying + fusion)   \n",
       "3                                          4 (inference)   \n",
       "4                                          4 (inference)   \n",
       "\n",
       "  5.3.1 Are the premises sufficient to draw the conclusion?  \\\n",
       "0                                     4 (rather sufficient)   \n",
       "1                                     4 (rather sufficient)   \n",
       "2                                             3 (undecided)   \n",
       "3                                     4 (rather sufficient)   \n",
       "4                                        1 (not sufficient)   \n",
       "\n",
       "  6.2.1 Are the premises sufficient to draw the conclusion?  \\\n",
       "0                                   2 (rather insufficient)   \n",
       "1                                     4 (rather sufficient)   \n",
       "2                                   2 (rather insufficient)   \n",
       "3                                     4 (rather sufficient)   \n",
       "4                                     4 (rather sufficient)   \n",
       "\n",
       "  17.3.3 How can the claim be composed from the context?  \\\n",
       "0                                          4 (inference)   \n",
       "1                                  5 (can't be composed)   \n",
       "2                                          4 (inference)   \n",
       "3                                          4 (inference)   \n",
       "4                                          4 (inference)   \n",
       "\n",
       "  5.1.1 Are the premises sufficient to draw the conclusion?  \\\n",
       "0                                             3 (undecided)   \n",
       "1                                             3 (undecided)   \n",
       "2                                            5 (sufficient)   \n",
       "3                                   2 (rather insufficient)   \n",
       "4                                             3 (undecided)   \n",
       "\n",
       "  5.3.2 How likely is it that the claim will be inferred from the context?  \\\n",
       "0                                                               4 (likely)   \n",
       "1                                                               4 (likely)   \n",
       "2                                                             3 (possible)   \n",
       "3                                                               4 (likely)   \n",
       "4                                                        1 (very unlikely)   \n",
       "\n",
       "   ...  \\\n",
       "0  ...   \n",
       "1  ...   \n",
       "2  ...   \n",
       "3  ...   \n",
       "4  ...   \n",
       "\n",
       "  76.3.2 How likely is it that the claim will be inferred from the context?  \\\n",
       "0                                                                4 (likely)   \n",
       "1                                                              3 (possible)   \n",
       "2                                                          5  (very likely)   \n",
       "3                                                              3 (possible)   \n",
       "4                                                                4 (likely)   \n",
       "\n",
       "  100.1.3 How can the claim be composed from the context?  \\\n",
       "0                                           4 (inference)   \n",
       "1                                           4 (inference)   \n",
       "2                                           4 (inference)   \n",
       "3                                           4 (inference)   \n",
       "4                                           4 (inference)   \n",
       "\n",
       "  87.3.2 How likely is it that the claim will be inferred from the context?  \\\n",
       "0                                                              3 (possible)   \n",
       "1                                                              3 (possible)   \n",
       "2                                                              3 (possible)   \n",
       "3                                                              3 (possible)   \n",
       "4                                                                4 (likely)   \n",
       "\n",
       "  76.3.3 How can the claim be composed from the context?  \\\n",
       "0                                          4 (inference)   \n",
       "1                                          4 (inference)   \n",
       "2                                 2 (synonymous copying)   \n",
       "3                                   3 (copying + fusion)   \n",
       "4                                          4 (inference)   \n",
       "\n",
       "  76.1.1 Are the premises sufficient to draw the conclusion?  \\\n",
       "0                                    2 (rather insufficient)   \n",
       "1                                              3 (undecided)   \n",
       "2                                      4 (rather sufficient)   \n",
       "3                                              3 (undecided)   \n",
       "4                                      4 (rather sufficient)   \n",
       "\n",
       "  77.1.1 Are the premises sufficient to draw the conclusion?  \\\n",
       "0                                         1 (not sufficient)   \n",
       "1                                              3 (undecided)   \n",
       "2                                              3 (undecided)   \n",
       "3                                              3 (undecided)   \n",
       "4                                      4 (rather sufficient)   \n",
       "\n",
       "  77.1.2 How likely is it that the claim will be inferred from the context?  \\\n",
       "0                                                              2 (unlikely)   \n",
       "1                                                              3 (possible)   \n",
       "2                                                              3 (possible)   \n",
       "3                                                                4 (likely)   \n",
       "4                                                              3 (possible)   \n",
       "\n",
       "  76.1.2 How likely is it that the claim will be inferred from the context?  \\\n",
       "0                                                                4 (likely)   \n",
       "1                                                              3 (possible)   \n",
       "2                                                                4 (likely)   \n",
       "3                                                                4 (likely)   \n",
       "4                                                              3 (possible)   \n",
       "\n",
       "  77.1.3 How can the claim be composed from the context?  \\\n",
       "0                                          4 (inference)   \n",
       "1                                          4 (inference)   \n",
       "2                                          4 (inference)   \n",
       "3                                          4 (inference)   \n",
       "4                                          4 (inference)   \n",
       "\n",
       "  76.1.3 How can the claim be composed from the context?  \n",
       "0                                          4 (inference)  \n",
       "1                                          4 (inference)  \n",
       "2                                 2 (synonymous copying)  \n",
       "3                                          4 (inference)  \n",
       "4                                          4 (inference)  \n",
       "\n",
       "[5 rows x 901 columns]"
      ]
     },
     "execution_count": 20,
     "metadata": {},
     "output_type": "execute_result"
    }
   ],
   "source": [
    "merged_df.head()"
   ]
  },
  {
   "cell_type": "code",
   "execution_count": 21,
   "metadata": {},
   "outputs": [],
   "source": [
    "study_df = pd.read_csv('../../../docs/study_new.csv', sep=';', encoding='latin-1', nrows=100)"
   ]
  },
  {
   "cell_type": "code",
   "execution_count": 22,
   "metadata": {
    "scrolled": true
   },
   "outputs": [],
   "source": [
    "k=0\n",
    "for i, row in study_df.iterrows():\n",
    "    tmp_columns = list(merged_df.columns[[True if x[0]==str(k+1) else False for x in merged_df.columns.str.split('.').tolist()]])\n",
    "    new_col_names = {}\n",
    "    for column in tmp_columns:\n",
    "        if column.split('.')[1] == '1':\n",
    "            tmp_column = column.replace(\".1.\",\".\"+str(int(row['id1'])+1)+\".\")\n",
    "        elif column.split('.')[1] == '2':\n",
    "            tmp_column = column.replace(\".2.\",\".\"+str(int(row['id2'])+1)+\".\")\n",
    "        elif column.split('.')[1] == '3':\n",
    "            tmp_column = column.replace(\".3.\",\".\"+str(int(row['id3'])+1)+\".\")\n",
    "        else:\n",
    "            print('error')\n",
    "        new_col_names[column] = tmp_column\n",
    "    merged_df.rename(columns=new_col_names, inplace=True)\n",
    "    k+=1"
   ]
  },
  {
   "cell_type": "code",
   "execution_count": 23,
   "metadata": {},
   "outputs": [
    {
     "data": {
      "text/html": [
       "<div>\n",
       "<style scoped>\n",
       "    .dataframe tbody tr th:only-of-type {\n",
       "        vertical-align: middle;\n",
       "    }\n",
       "\n",
       "    .dataframe tbody tr th {\n",
       "        vertical-align: top;\n",
       "    }\n",
       "\n",
       "    .dataframe thead th {\n",
       "        text-align: right;\n",
       "    }\n",
       "</style>\n",
       "<table border=\"1\" class=\"dataframe\">\n",
       "  <thead>\n",
       "    <tr style=\"text-align: right;\">\n",
       "      <th></th>\n",
       "      <th>Column1</th>\n",
       "      <th>index</th>\n",
       "      <th>local_sufficency</th>\n",
       "      <th>gt</th>\n",
       "      <th>supervised</th>\n",
       "      <th>unsupervised</th>\n",
       "      <th>premises</th>\n",
       "      <th>first</th>\n",
       "      <th>second</th>\n",
       "      <th>third</th>\n",
       "      <th>id1</th>\n",
       "      <th>id2</th>\n",
       "      <th>id3</th>\n",
       "    </tr>\n",
       "  </thead>\n",
       "  <tbody>\n",
       "    <tr>\n",
       "      <th>0</th>\n",
       "      <td>0</td>\n",
       "      <td>essay145_1</td>\n",
       "      <td>0</td>\n",
       "      <td>&lt;p&gt;The first and foremost reason lies in an inevitable fact that &lt;span style=\"background-color: #fdf2d0;\"&gt;the more advanced facilities we have, the more chances we can increase our knowledge&lt;/span&gt;. For example, &lt;span style=\"background-color: #fdf2d0;\"&gt;library is a good place for students to study or research&lt;/span&gt;. &lt;span style=\"background-color: #fdf2d0;\"&gt;They can concentrate on the subjects with a tranquil ambience; also, there are a lot of references for students to utilize&lt;/span&gt;. &lt;span style=\"background-color: #fdf2d0;\"&gt;With this convenient and versatile facility, students can improve their learning condition&lt;/span&gt;. Therefore, we can commence to agree that &lt;span style=\"background-color: #d8d2e7;\"&gt;certain facilities are beneficial to students&lt;/span&gt;. &lt;/p&gt; &lt;p style=\"text-align: right;\"&gt;&lt;span style=\"color: #d8d2e7;\"&gt;???&lt;/span&gt; = claim&amp;nbsp; &amp;nbsp; &amp;nbsp;&lt;span style=\"color: #fdf2d0;\"&gt;???&lt;/span&gt; = premise&lt;/p&gt;</td>\n",
       "      <td>&lt;p&gt;The first and foremost reason lies in an inevitable fact that &lt;span style=\"background-color: #fdf2d0;\"&gt;the more advanced facilities we have, the more chances we can increase our knowledge&lt;/span&gt;. For example, &lt;span style=\"background-color: #fdf2d0;\"&gt;library is a good place for students to study or research&lt;/span&gt;. &lt;span style=\"background-color: #fdf2d0;\"&gt;They can concentrate on the subjects with a tranquil ambience; also, there are a lot of references for students to utilize&lt;/span&gt;. &lt;span style=\"background-color: #fdf2d0;\"&gt;With this convenient and versatile facility, students can improve their learning condition&lt;/span&gt;. Therefore, we can commence to agree that &lt;span style=\"background-color: #d8d2e7;\"&gt; the more advanced facilities we have, the better we can learn&lt;/span&gt;. &lt;/p&gt; &lt;p style=\"text-align: right;\"&gt;&lt;span style=\"color: #d8d2e7;\"&gt;???&lt;/span&gt; = claim&amp;nbsp; &amp;nbsp; &amp;nbsp;&lt;span style=\"color: #fdf2d0;\"&gt;???&lt;/span&gt; = premise&lt;/p&gt;</td>\n",
       "      <td>&lt;p&gt;The first and foremost reason lies in an inevitable fact that &lt;span style=\"background-color: #fdf2d0;\"&gt;the more advanced facilities we have, the more chances we can increase our knowledge&lt;/span&gt;. For example, &lt;span style=\"background-color: #fdf2d0;\"&gt;library is a good place for students to study or research&lt;/span&gt;. &lt;span style=\"background-color: #fdf2d0;\"&gt;They can concentrate on the subjects with a tranquil ambience; also, there are a lot of references for students to utilize&lt;/span&gt;. &lt;span style=\"background-color: #fdf2d0;\"&gt;With this convenient and versatile facility, students can improve their learning condition&lt;/span&gt;. Therefore, we can commence to agree that &lt;span style=\"background-color: #d8d2e7;\"&gt;library is the best place to study or research &lt;/span&gt;. &lt;/p&gt; &lt;p style=\"text-align: right;\"&gt;&lt;span style=\"color: #d8d2e7;\"&gt;???&lt;/span&gt; = claim&amp;nbsp; &amp;nbsp; &amp;nbsp;&lt;span style=\"color: #fdf2d0;\"&gt;???&lt;/span&gt; = premise&lt;/p&gt;</td>\n",
       "      <td>['the more advanced facilities we have, the more chances we can increase our knowledge', 'library is a good place for students to study or research', 'They can concentrate on the subjects with a tranquil ambience; also, there are a lot of references for students to utilize', 'With this convenient and versatile facility, students can improve their learning condition']</td>\n",
       "      <td>&lt;p&gt;The first and foremost reason lies in an inevitable fact that &lt;span style=\"background-color: #fdf2d0;\"&gt;the more advanced facilities we have, the more chances we can increase our knowledge&lt;/span&gt;. For example, &lt;span style=\"background-color: #fdf2d0;\"&gt;library is a good place for students to study or research&lt;/span&gt;. &lt;span style=\"background-color: #fdf2d0;\"&gt;They can concentrate on the subjects with a tranquil ambience; also, there are a lot of references for students to utilize&lt;/span&gt;. &lt;span style=\"background-color: #fdf2d0;\"&gt;With this convenient and versatile facility, students can improve their learning condition&lt;/span&gt;. Therefore, we can commence to agree that &lt;span style=\"background-color: #d8d2e7;\"&gt;library is the best place to study or research &lt;/span&gt;. &lt;/p&gt; &lt;p style=\"text-align: right;\"&gt;&lt;span style=\"color: #d8d2e7;\"&gt;???&lt;/span&gt; = claim&amp;nbsp; &amp;nbsp; &amp;nbsp;&lt;span style=\"color: #fdf2d0;\"&gt;???&lt;/span&gt; = premise&lt;/p&gt;</td>\n",
       "      <td>&lt;p&gt;The first and foremost reason lies in an inevitable fact that &lt;span style=\"background-color: #fdf2d0;\"&gt;the more advanced facilities we have, the more chances we can increase our knowledge&lt;/span&gt;. For example, &lt;span style=\"background-color: #fdf2d0;\"&gt;library is a good place for students to study or research&lt;/span&gt;. &lt;span style=\"background-color: #fdf2d0;\"&gt;They can concentrate on the subjects with a tranquil ambience; also, there are a lot of references for students to utilize&lt;/span&gt;. &lt;span style=\"background-color: #fdf2d0;\"&gt;With this convenient and versatile facility, students can improve their learning condition&lt;/span&gt;. Therefore, we can commence to agree that &lt;span style=\"background-color: #d8d2e7;\"&gt;certain facilities are beneficial to students&lt;/span&gt;. &lt;/p&gt; &lt;p style=\"text-align: right;\"&gt;&lt;span style=\"color: #d8d2e7;\"&gt;???&lt;/span&gt; = claim&amp;nbsp; &amp;nbsp; &amp;nbsp;&lt;span style=\"color: #fdf2d0;\"&gt;???&lt;/span&gt; = premise&lt;/p&gt;</td>\n",
       "      <td>&lt;p&gt;The first and foremost reason lies in an inevitable fact that &lt;span style=\"background-color: #fdf2d0;\"&gt;the more advanced facilities we have, the more chances we can increase our knowledge&lt;/span&gt;. For example, &lt;span style=\"background-color: #fdf2d0;\"&gt;library is a good place for students to study or research&lt;/span&gt;. &lt;span style=\"background-color: #fdf2d0;\"&gt;They can concentrate on the subjects with a tranquil ambience; also, there are a lot of references for students to utilize&lt;/span&gt;. &lt;span style=\"background-color: #fdf2d0;\"&gt;With this convenient and versatile facility, students can improve their learning condition&lt;/span&gt;. Therefore, we can commence to agree that &lt;span style=\"background-color: #d8d2e7;\"&gt; the more advanced facilities we have, the better we can learn&lt;/span&gt;. &lt;/p&gt; &lt;p style=\"text-align: right;\"&gt;&lt;span style=\"color: #d8d2e7;\"&gt;???&lt;/span&gt; = claim&amp;nbsp; &amp;nbsp; &amp;nbsp;&lt;span style=\"color: #fdf2d0;\"&gt;???&lt;/span&gt; = premise&lt;/p&gt;</td>\n",
       "      <td>2</td>\n",
       "      <td>0</td>\n",
       "      <td>1</td>\n",
       "    </tr>\n",
       "    <tr>\n",
       "      <th>1</th>\n",
       "      <td>2</td>\n",
       "      <td>essay100_2</td>\n",
       "      <td>0</td>\n",
       "      <td>&lt;p&gt;Looking from another perspective, &lt;span style=\"background-color: #d8d2e7;\"&gt;there are also a significant number of people who are very successful in their fields without going to university&lt;/span&gt;. &lt;span style=\"background-color: #fdf2d0;\"&gt;Take for instance those who start their own business&lt;/span&gt;. &lt;span style=\"background-color: #fdf2d0;\"&gt;These people depend solely on hard work and luck&lt;/span&gt;. Interestingly, &lt;span style=\"background-color: #fdf2d0;\"&gt;for some of them it proved to be a profitable job&lt;/span&gt;. To cite an example, &lt;span style=\"background-color: #fdf2d0;\"&gt;Michael Dell who is the founder and the CEO of Dell left college at 19&lt;/span&gt;. Initially, &lt;span style=\"background-color: #fdf2d0;\"&gt;he started his computer company in his college dorm room&lt;/span&gt;. Eventually, &lt;span style=\"background-color: #fdf2d0;\"&gt;he used his earnings as well as his family's loan in order to progress to be who he is now&lt;/span&gt;.&lt;/p&gt; &lt;p style=\"text-align: right;\"&gt;&lt;span style=\"color: #d8d2e7;\"&gt;???&lt;/span&gt; = claim&amp;nbsp; &amp;nbsp; &amp;nbsp;&lt;span style=\"color: #fdf2d0;\"&gt;???&lt;/span&gt; = premise&lt;/p&gt;</td>\n",
       "      <td>&lt;p&gt;Looking from another perspective, &lt;span style=\"background-color: #d8d2e7;\"&gt; looking from another perspective, there are some people who have left college at a very young age&lt;/span&gt;. &lt;span style=\"background-color: #fdf2d0;\"&gt;Take for instance those who start their own business&lt;/span&gt;. &lt;span style=\"background-color: #fdf2d0;\"&gt;These people depend solely on hard work and luck&lt;/span&gt;. Interestingly, &lt;span style=\"background-color: #fdf2d0;\"&gt;for some of them it proved to be a profitable job&lt;/span&gt;. To cite an example, &lt;span style=\"background-color: #fdf2d0;\"&gt;Michael Dell who is the founder and the CEO of Dell left college at 19&lt;/span&gt;. Initially, &lt;span style=\"background-color: #fdf2d0;\"&gt;he started his computer company in his college dorm room&lt;/span&gt;. Eventually, &lt;span style=\"background-color: #fdf2d0;\"&gt;he used his earnings as well as his family's loan in order to progress to be who he is now&lt;/span&gt;.&lt;/p&gt; &lt;p style=\"text-align: right;\"&gt;&lt;span style=\"color: #d8d2e7;\"&gt;???&lt;/span&gt; = claim&amp;nbsp; &amp;nbsp; &amp;nbsp;&lt;span style=\"color: #fdf2d0;\"&gt;???&lt;/span&gt; = premise&lt;/p&gt;</td>\n",
       "      <td>&lt;p&gt;Looking from another perspective, &lt;span style=\"background-color: #d8d2e7;\"&gt;there are a lot of people who do not have a college education &lt;/span&gt;. &lt;span style=\"background-color: #fdf2d0;\"&gt;Take for instance those who start their own business&lt;/span&gt;. &lt;span style=\"background-color: #fdf2d0;\"&gt;These people depend solely on hard work and luck&lt;/span&gt;. Interestingly, &lt;span style=\"background-color: #fdf2d0;\"&gt;for some of them it proved to be a profitable job&lt;/span&gt;. To cite an example, &lt;span style=\"background-color: #fdf2d0;\"&gt;Michael Dell who is the founder and the CEO of Dell left college at 19&lt;/span&gt;. Initially, &lt;span style=\"background-color: #fdf2d0;\"&gt;he started his computer company in his college dorm room&lt;/span&gt;. Eventually, &lt;span style=\"background-color: #fdf2d0;\"&gt;he used his earnings as well as his family's loan in order to progress to be who he is now&lt;/span&gt;.&lt;/p&gt; &lt;p style=\"text-align: right;\"&gt;&lt;span style=\"color: #d8d2e7;\"&gt;???&lt;/span&gt; = claim&amp;nbsp; &amp;nbsp; &amp;nbsp;&lt;span style=\"color: #fdf2d0;\"&gt;???&lt;/span&gt; = premise&lt;/p&gt;</td>\n",
       "      <td>['Take for instance those who start their own business', 'These people depend solely on hard work and luck', 'for some of them it proved to be a profitable job', 'Michael Dell who is the founder and the CEO of Dell left college at 19', 'he started his computer company in his college dorm room', \"he used his earnings as well as his family's loan in order to progress to be who he is now\"]</td>\n",
       "      <td>&lt;p&gt;Looking from another perspective, &lt;span style=\"background-color: #d8d2e7;\"&gt;there are a lot of people who do not have a college education &lt;/span&gt;. &lt;span style=\"background-color: #fdf2d0;\"&gt;Take for instance those who start their own business&lt;/span&gt;. &lt;span style=\"background-color: #fdf2d0;\"&gt;These people depend solely on hard work and luck&lt;/span&gt;. Interestingly, &lt;span style=\"background-color: #fdf2d0;\"&gt;for some of them it proved to be a profitable job&lt;/span&gt;. To cite an example, &lt;span style=\"background-color: #fdf2d0;\"&gt;Michael Dell who is the founder and the CEO of Dell left college at 19&lt;/span&gt;. Initially, &lt;span style=\"background-color: #fdf2d0;\"&gt;he started his computer company in his college dorm room&lt;/span&gt;. Eventually, &lt;span style=\"background-color: #fdf2d0;\"&gt;he used his earnings as well as his family's loan in order to progress to be who he is now&lt;/span&gt;.&lt;/p&gt; &lt;p style=\"text-align: right;\"&gt;&lt;span style=\"color: #d8d2e7;\"&gt;???&lt;/span&gt; = claim&amp;nbsp; &amp;nbsp; &amp;nbsp;&lt;span style=\"color: #fdf2d0;\"&gt;???&lt;/span&gt; = premise&lt;/p&gt;</td>\n",
       "      <td>&lt;p&gt;Looking from another perspective, &lt;span style=\"background-color: #d8d2e7;\"&gt;there are also a significant number of people who are very successful in their fields without going to university&lt;/span&gt;. &lt;span style=\"background-color: #fdf2d0;\"&gt;Take for instance those who start their own business&lt;/span&gt;. &lt;span style=\"background-color: #fdf2d0;\"&gt;These people depend solely on hard work and luck&lt;/span&gt;. Interestingly, &lt;span style=\"background-color: #fdf2d0;\"&gt;for some of them it proved to be a profitable job&lt;/span&gt;. To cite an example, &lt;span style=\"background-color: #fdf2d0;\"&gt;Michael Dell who is the founder and the CEO of Dell left college at 19&lt;/span&gt;. Initially, &lt;span style=\"background-color: #fdf2d0;\"&gt;he started his computer company in his college dorm room&lt;/span&gt;. Eventually, &lt;span style=\"background-color: #fdf2d0;\"&gt;he used his earnings as well as his family's loan in order to progress to be who he is now&lt;/span&gt;.&lt;/p&gt; &lt;p style=\"text-align: right;\"&gt;&lt;span style=\"color: #d8d2e7;\"&gt;???&lt;/span&gt; = claim&amp;nbsp; &amp;nbsp; &amp;nbsp;&lt;span style=\"color: #fdf2d0;\"&gt;???&lt;/span&gt; = premise&lt;/p&gt;</td>\n",
       "      <td>&lt;p&gt;Looking from another perspective, &lt;span style=\"background-color: #d8d2e7;\"&gt; looking from another perspective, there are some people who have left college at a very young age&lt;/span&gt;. &lt;span style=\"background-color: #fdf2d0;\"&gt;Take for instance those who start their own business&lt;/span&gt;. &lt;span style=\"background-color: #fdf2d0;\"&gt;These people depend solely on hard work and luck&lt;/span&gt;. Interestingly, &lt;span style=\"background-color: #fdf2d0;\"&gt;for some of them it proved to be a profitable job&lt;/span&gt;. To cite an example, &lt;span style=\"background-color: #fdf2d0;\"&gt;Michael Dell who is the founder and the CEO of Dell left college at 19&lt;/span&gt;. Initially, &lt;span style=\"background-color: #fdf2d0;\"&gt;he started his computer company in his college dorm room&lt;/span&gt;. Eventually, &lt;span style=\"background-color: #fdf2d0;\"&gt;he used his earnings as well as his family's loan in order to progress to be who he is now&lt;/span&gt;.&lt;/p&gt; &lt;p style=\"text-align: right;\"&gt;&lt;span style=\"color: #d8d2e7;\"&gt;???&lt;/span&gt; = claim&amp;nbsp; &amp;nbsp; &amp;nbsp;&lt;span style=\"color: #fdf2d0;\"&gt;???&lt;/span&gt; = premise&lt;/p&gt;</td>\n",
       "      <td>2</td>\n",
       "      <td>0</td>\n",
       "      <td>1</td>\n",
       "    </tr>\n",
       "    <tr>\n",
       "      <th>2</th>\n",
       "      <td>3</td>\n",
       "      <td>essay149_2</td>\n",
       "      <td>0</td>\n",
       "      <td>&lt;p&gt;What is more, &lt;span style=\"background-color: #d8d2e7;\"&gt;family members can help us in many other aspects&lt;/span&gt;. For example, &lt;span style=\"background-color: #fdf2d0;\"&gt;when I did not know what major to choose when I attend university, my father told a lot about different majors&lt;/span&gt;. &lt;span style=\"background-color: #fdf2d0;\"&gt;He shared his own experience with me, which helped me quite a lot&lt;/span&gt;. &lt;span style=\"background-color: #fdf2d0;\"&gt;Parents are quite experienced than their child&lt;/span&gt;, &lt;span style=\"background-color: #fdf2d0;\"&gt;they can guide them toward the right direction&lt;/span&gt;. Besides, &lt;span style=\"background-color: #fdf2d0;\"&gt;parents can told their children as many as they can&lt;/span&gt;. &lt;span style=\"background-color: #fdf2d0;\"&gt;What they want is help their child to make a progress&lt;/span&gt;.&lt;/p&gt; &lt;p style=\"text-align: right;\"&gt;&lt;span style=\"color: #d8d2e7;\"&gt;???&lt;/span&gt; = claim&amp;nbsp; &amp;nbsp; &amp;nbsp;&lt;span style=\"color: #fdf2d0;\"&gt;???&lt;/span&gt; = premise&lt;/p&gt;</td>\n",
       "      <td>&lt;p&gt;What is more, &lt;span style=\"background-color: #d8d2e7;\"&gt; parents can help their children to make the right decision&lt;/span&gt;. For example, &lt;span style=\"background-color: #fdf2d0;\"&gt;when I did not know what major to choose when I attend university, my father told a lot about different majors&lt;/span&gt;. &lt;span style=\"background-color: #fdf2d0;\"&gt;He shared his own experience with me, which helped me quite a lot&lt;/span&gt;. &lt;span style=\"background-color: #fdf2d0;\"&gt;Parents are quite experienced than their child&lt;/span&gt;, &lt;span style=\"background-color: #fdf2d0;\"&gt;they can guide them toward the right direction&lt;/span&gt;. Besides, &lt;span style=\"background-color: #fdf2d0;\"&gt;parents can told their children as many as they can&lt;/span&gt;. &lt;span style=\"background-color: #fdf2d0;\"&gt;What they want is help their child to make a progress&lt;/span&gt;.&lt;/p&gt; &lt;p style=\"text-align: right;\"&gt;&lt;span style=\"color: #d8d2e7;\"&gt;???&lt;/span&gt; = claim&amp;nbsp; &amp;nbsp; &amp;nbsp;&lt;span style=\"color: #fdf2d0;\"&gt;???&lt;/span&gt; = premise&lt;/p&gt;</td>\n",
       "      <td>&lt;p&gt;What is more, &lt;span style=\"background-color: #d8d2e7;\"&gt;parents can help their child to make a progress &lt;/span&gt;. For example, &lt;span style=\"background-color: #fdf2d0;\"&gt;when I did not know what major to choose when I attend university, my father told a lot about different majors&lt;/span&gt;. &lt;span style=\"background-color: #fdf2d0;\"&gt;He shared his own experience with me, which helped me quite a lot&lt;/span&gt;. &lt;span style=\"background-color: #fdf2d0;\"&gt;Parents are quite experienced than their child&lt;/span&gt;, &lt;span style=\"background-color: #fdf2d0;\"&gt;they can guide them toward the right direction&lt;/span&gt;. Besides, &lt;span style=\"background-color: #fdf2d0;\"&gt;parents can told their children as many as they can&lt;/span&gt;. &lt;span style=\"background-color: #fdf2d0;\"&gt;What they want is help their child to make a progress&lt;/span&gt;.&lt;/p&gt; &lt;p style=\"text-align: right;\"&gt;&lt;span style=\"color: #d8d2e7;\"&gt;???&lt;/span&gt; = claim&amp;nbsp; &amp;nbsp; &amp;nbsp;&lt;span style=\"color: #fdf2d0;\"&gt;???&lt;/span&gt; = premise&lt;/p&gt;</td>\n",
       "      <td>['when I did not know what major to choose when I attend university, my father told a lot about different majors', 'He shared his own experience with me, which helped me quite a lot', 'Parents are quite experienced than their child', 'they can guide them toward the right direction', 'parents can told their children as many as they can', 'What they want is help their child to make a progress']</td>\n",
       "      <td>&lt;p&gt;What is more, &lt;span style=\"background-color: #d8d2e7;\"&gt;parents can help their child to make a progress &lt;/span&gt;. For example, &lt;span style=\"background-color: #fdf2d0;\"&gt;when I did not know what major to choose when I attend university, my father told a lot about different majors&lt;/span&gt;. &lt;span style=\"background-color: #fdf2d0;\"&gt;He shared his own experience with me, which helped me quite a lot&lt;/span&gt;. &lt;span style=\"background-color: #fdf2d0;\"&gt;Parents are quite experienced than their child&lt;/span&gt;, &lt;span style=\"background-color: #fdf2d0;\"&gt;they can guide them toward the right direction&lt;/span&gt;. Besides, &lt;span style=\"background-color: #fdf2d0;\"&gt;parents can told their children as many as they can&lt;/span&gt;. &lt;span style=\"background-color: #fdf2d0;\"&gt;What they want is help their child to make a progress&lt;/span&gt;.&lt;/p&gt; &lt;p style=\"text-align: right;\"&gt;&lt;span style=\"color: #d8d2e7;\"&gt;???&lt;/span&gt; = claim&amp;nbsp; &amp;nbsp; &amp;nbsp;&lt;span style=\"color: #fdf2d0;\"&gt;???&lt;/span&gt; = premise&lt;/p&gt;</td>\n",
       "      <td>&lt;p&gt;What is more, &lt;span style=\"background-color: #d8d2e7;\"&gt; parents can help their children to make the right decision&lt;/span&gt;. For example, &lt;span style=\"background-color: #fdf2d0;\"&gt;when I did not know what major to choose when I attend university, my father told a lot about different majors&lt;/span&gt;. &lt;span style=\"background-color: #fdf2d0;\"&gt;He shared his own experience with me, which helped me quite a lot&lt;/span&gt;. &lt;span style=\"background-color: #fdf2d0;\"&gt;Parents are quite experienced than their child&lt;/span&gt;, &lt;span style=\"background-color: #fdf2d0;\"&gt;they can guide them toward the right direction&lt;/span&gt;. Besides, &lt;span style=\"background-color: #fdf2d0;\"&gt;parents can told their children as many as they can&lt;/span&gt;. &lt;span style=\"background-color: #fdf2d0;\"&gt;What they want is help their child to make a progress&lt;/span&gt;.&lt;/p&gt; &lt;p style=\"text-align: right;\"&gt;&lt;span style=\"color: #d8d2e7;\"&gt;???&lt;/span&gt; = claim&amp;nbsp; &amp;nbsp; &amp;nbsp;&lt;span style=\"color: #fdf2d0;\"&gt;???&lt;/span&gt; = premise&lt;/p&gt;</td>\n",
       "      <td>&lt;p&gt;What is more, &lt;span style=\"background-color: #d8d2e7;\"&gt;family members can help us in many other aspects&lt;/span&gt;. For example, &lt;span style=\"background-color: #fdf2d0;\"&gt;when I did not know what major to choose when I attend university, my father told a lot about different majors&lt;/span&gt;. &lt;span style=\"background-color: #fdf2d0;\"&gt;He shared his own experience with me, which helped me quite a lot&lt;/span&gt;. &lt;span style=\"background-color: #fdf2d0;\"&gt;Parents are quite experienced than their child&lt;/span&gt;, &lt;span style=\"background-color: #fdf2d0;\"&gt;they can guide them toward the right direction&lt;/span&gt;. Besides, &lt;span style=\"background-color: #fdf2d0;\"&gt;parents can told their children as many as they can&lt;/span&gt;. &lt;span style=\"background-color: #fdf2d0;\"&gt;What they want is help their child to make a progress&lt;/span&gt;.&lt;/p&gt; &lt;p style=\"text-align: right;\"&gt;&lt;span style=\"color: #d8d2e7;\"&gt;???&lt;/span&gt; = claim&amp;nbsp; &amp;nbsp; &amp;nbsp;&lt;span style=\"color: #fdf2d0;\"&gt;???&lt;/span&gt; = premise&lt;/p&gt;</td>\n",
       "      <td>2</td>\n",
       "      <td>1</td>\n",
       "      <td>0</td>\n",
       "    </tr>\n",
       "    <tr>\n",
       "      <th>3</th>\n",
       "      <td>4</td>\n",
       "      <td>essay226_1</td>\n",
       "      <td>1</td>\n",
       "      <td>&lt;p&gt;First of all, &lt;span style=\"background-color: #fdf2d0;\"&gt;the predecessors' mistakes are the first thing that we should consider when learning about the past&lt;/span&gt;. &lt;span style=\"background-color: #fdf2d0;\"&gt;As everyone's life is too short to risk trying anything without any prepare, we all should learn about other's mistakes&lt;/span&gt; so that &lt;span style=\"background-color: #fdf2d0;\"&gt;we can avoid making the same ones&lt;/span&gt;. &lt;span style=\"background-color: #fdf2d0;\"&gt;Each mistake, from the smallest to the bigger one, is a treasure of experience, which, if we can make full use of, will make us well-prepared for many complicated situations of our life&lt;/span&gt;. Therefore, &lt;span style=\"background-color: #d8d2e7;\"&gt;past obviously saves ourselves a bunch of failures and times&lt;/span&gt;.&lt;/p&gt; &lt;p style=\"text-align: right;\"&gt;&lt;span style=\"color: #d8d2e7;\"&gt;???&lt;/span&gt; = claim&amp;nbsp; &amp;nbsp; &amp;nbsp;&lt;span style=\"color: #fdf2d0;\"&gt;???&lt;/span&gt; = premise&lt;/p&gt;</td>\n",
       "      <td>&lt;p&gt;First of all, &lt;span style=\"background-color: #fdf2d0;\"&gt;the predecessors' mistakes are the first thing that we should consider when learning about the past&lt;/span&gt;. &lt;span style=\"background-color: #fdf2d0;\"&gt;As everyone's life is too short to risk trying anything without any prepare, we all should learn about other's mistakes&lt;/span&gt; so that &lt;span style=\"background-color: #fdf2d0;\"&gt;we can avoid making the same ones&lt;/span&gt;. &lt;span style=\"background-color: #fdf2d0;\"&gt;Each mistake, from the smallest to the bigger one, is a treasure of experience, which, if we can make full use of, will make us well-prepared for many complicated situations of our life&lt;/span&gt;. Therefore, &lt;span style=\"background-color: #d8d2e7;\"&gt; first of all, we should learn from the mistakes of our predecessors&lt;/span&gt;.&lt;/p&gt; &lt;p style=\"text-align: right;\"&gt;&lt;span style=\"color: #d8d2e7;\"&gt;???&lt;/span&gt; = claim&amp;nbsp; &amp;nbsp; &amp;nbsp;&lt;span style=\"color: #fdf2d0;\"&gt;???&lt;/span&gt; = premise&lt;/p&gt;</td>\n",
       "      <td>&lt;p&gt;First of all, &lt;span style=\"background-color: #fdf2d0;\"&gt;the predecessors' mistakes are the first thing that we should consider when learning about the past&lt;/span&gt;. &lt;span style=\"background-color: #fdf2d0;\"&gt;As everyone's life is too short to risk trying anything without any prepare, we all should learn about other's mistakes&lt;/span&gt; so that &lt;span style=\"background-color: #fdf2d0;\"&gt;we can avoid making the same ones&lt;/span&gt;. &lt;span style=\"background-color: #fdf2d0;\"&gt;Each mistake, from the smallest to the bigger one, is a treasure of experience, which, if we can make full use of, will make us well-prepared for many complicated situations of our life&lt;/span&gt;. Therefore, &lt;span style=\"background-color: #d8d2e7;\"&gt;we should learn from the mistakes of our predecessors and learn from their mistakes &lt;/span&gt;.&lt;/p&gt; &lt;p style=\"text-align: right;\"&gt;&lt;span style=\"color: #d8d2e7;\"&gt;???&lt;/span&gt; = claim&amp;nbsp; &amp;nbsp; &amp;nbsp;&lt;span style=\"color: #fdf2d0;\"&gt;???&lt;/span&gt; = premise&lt;/p&gt;</td>\n",
       "      <td>[\"the predecessors' mistakes are the first thing that we should consider when learning about the past\", \"As everyone's life is too short to risk trying anything without any prepare, we all should learn about other's mistakes\", 'we can avoid making the same ones', 'Each mistake, from the smallest to the bigger one, is a treasure of experience, which, if we can make full use of, will make us well-prepared for many complicated situations of our life']</td>\n",
       "      <td>&lt;p&gt;First of all, &lt;span style=\"background-color: #fdf2d0;\"&gt;the predecessors' mistakes are the first thing that we should consider when learning about the past&lt;/span&gt;. &lt;span style=\"background-color: #fdf2d0;\"&gt;As everyone's life is too short to risk trying anything without any prepare, we all should learn about other's mistakes&lt;/span&gt; so that &lt;span style=\"background-color: #fdf2d0;\"&gt;we can avoid making the same ones&lt;/span&gt;. &lt;span style=\"background-color: #fdf2d0;\"&gt;Each mistake, from the smallest to the bigger one, is a treasure of experience, which, if we can make full use of, will make us well-prepared for many complicated situations of our life&lt;/span&gt;. Therefore, &lt;span style=\"background-color: #d8d2e7;\"&gt;past obviously saves ourselves a bunch of failures and times&lt;/span&gt;.&lt;/p&gt; &lt;p style=\"text-align: right;\"&gt;&lt;span style=\"color: #d8d2e7;\"&gt;???&lt;/span&gt; = claim&amp;nbsp; &amp;nbsp; &amp;nbsp;&lt;span style=\"color: #fdf2d0;\"&gt;???&lt;/span&gt; = premise&lt;/p&gt;</td>\n",
       "      <td>&lt;p&gt;First of all, &lt;span style=\"background-color: #fdf2d0;\"&gt;the predecessors' mistakes are the first thing that we should consider when learning about the past&lt;/span&gt;. &lt;span style=\"background-color: #fdf2d0;\"&gt;As everyone's life is too short to risk trying anything without any prepare, we all should learn about other's mistakes&lt;/span&gt; so that &lt;span style=\"background-color: #fdf2d0;\"&gt;we can avoid making the same ones&lt;/span&gt;. &lt;span style=\"background-color: #fdf2d0;\"&gt;Each mistake, from the smallest to the bigger one, is a treasure of experience, which, if we can make full use of, will make us well-prepared for many complicated situations of our life&lt;/span&gt;. Therefore, &lt;span style=\"background-color: #d8d2e7;\"&gt;we should learn from the mistakes of our predecessors and learn from their mistakes &lt;/span&gt;.&lt;/p&gt; &lt;p style=\"text-align: right;\"&gt;&lt;span style=\"color: #d8d2e7;\"&gt;???&lt;/span&gt; = claim&amp;nbsp; &amp;nbsp; &amp;nbsp;&lt;span style=\"color: #fdf2d0;\"&gt;???&lt;/span&gt; = premise&lt;/p&gt;</td>\n",
       "      <td>&lt;p&gt;First of all, &lt;span style=\"background-color: #fdf2d0;\"&gt;the predecessors' mistakes are the first thing that we should consider when learning about the past&lt;/span&gt;. &lt;span style=\"background-color: #fdf2d0;\"&gt;As everyone's life is too short to risk trying anything without any prepare, we all should learn about other's mistakes&lt;/span&gt; so that &lt;span style=\"background-color: #fdf2d0;\"&gt;we can avoid making the same ones&lt;/span&gt;. &lt;span style=\"background-color: #fdf2d0;\"&gt;Each mistake, from the smallest to the bigger one, is a treasure of experience, which, if we can make full use of, will make us well-prepared for many complicated situations of our life&lt;/span&gt;. Therefore, &lt;span style=\"background-color: #d8d2e7;\"&gt; first of all, we should learn from the mistakes of our predecessors&lt;/span&gt;.&lt;/p&gt; &lt;p style=\"text-align: right;\"&gt;&lt;span style=\"color: #d8d2e7;\"&gt;???&lt;/span&gt; = claim&amp;nbsp; &amp;nbsp; &amp;nbsp;&lt;span style=\"color: #fdf2d0;\"&gt;???&lt;/span&gt; = premise&lt;/p&gt;</td>\n",
       "      <td>0</td>\n",
       "      <td>2</td>\n",
       "      <td>1</td>\n",
       "    </tr>\n",
       "    <tr>\n",
       "      <th>4</th>\n",
       "      <td>6</td>\n",
       "      <td>essay320_2</td>\n",
       "      <td>1</td>\n",
       "      <td>&lt;p&gt;Furthermore/moreover, &lt;span style=\"background-color: #d8d2e7;\"&gt;working alone allows me to avoid spending time and efforts on many things that are an integral part of teamwork&lt;/span&gt;. In other words, &lt;span style=\"background-color: #fdf2d0;\"&gt;I must not divide tasks and duties between team members, share responsibility and benefits, and spend time on teambuilding&lt;/span&gt;. &lt;span style=\"background-color: #fdf2d0;\"&gt;These advantages are especially important in situations of shortage of time&lt;/span&gt;. &lt;span style=\"background-color: #fdf2d0;\"&gt;About a year ago I was lucky to become a participant of student brainstorming game&lt;/span&gt;. &lt;span style=\"background-color: #fdf2d0;\"&gt;To my rivals' surprise, being the only member of my own \"team\" I gained a victory&lt;/span&gt;.&lt;/p&gt; &lt;p style=\"text-align: right;\"&gt;&lt;span style=\"color: #d8d2e7;\"&gt;???&lt;/span&gt; = claim&amp;nbsp; &amp;nbsp; &amp;nbsp;&lt;span style=\"color: #fdf2d0;\"&gt;???&lt;/span&gt; = premise&lt;/p&gt;</td>\n",
       "      <td>&lt;p&gt;Furthermore/moreover, &lt;span style=\"background-color: #d8d2e7;\"&gt; team building is a very important aspect of life&lt;/span&gt;. In other words, &lt;span style=\"background-color: #fdf2d0;\"&gt;I must not divide tasks and duties between team members, share responsibility and benefits, and spend time on teambuilding&lt;/span&gt;. &lt;span style=\"background-color: #fdf2d0;\"&gt;These advantages are especially important in situations of shortage of time&lt;/span&gt;. &lt;span style=\"background-color: #fdf2d0;\"&gt;About a year ago I was lucky to become a participant of student brainstorming game&lt;/span&gt;. &lt;span style=\"background-color: #fdf2d0;\"&gt;To my rivals' surprise, being the only member of my own \"team\" I gained a victory&lt;/span&gt;.&lt;/p&gt; &lt;p style=\"text-align: right;\"&gt;&lt;span style=\"color: #d8d2e7;\"&gt;???&lt;/span&gt; = claim&amp;nbsp; &amp;nbsp; &amp;nbsp;&lt;span style=\"color: #fdf2d0;\"&gt;???&lt;/span&gt; = premise&lt;/p&gt;</td>\n",
       "      <td>&lt;p&gt;Furthermore/moreover, &lt;span style=\"background-color: #d8d2e7;\"&gt;&lt;span style=\"background-color: #fdf2d0;\"&gt;I must not divide tasks and duties between team members, share responsibility and benefits, and spend time on teambuilding&lt;/span&gt; &lt;/span&gt;. In other words, &lt;span style=\"background-color: #fdf2d0;\"&gt;I must not divide tasks and duties between team members, share responsibility and benefits, and spend time on teambuilding&lt;/span&gt;. &lt;span style=\"background-color: #fdf2d0;\"&gt;These advantages are especially important in situations of shortage of time&lt;/span&gt;. &lt;span style=\"background-color: #fdf2d0;\"&gt;About a year ago I was lucky to become a participant of student brainstorming game&lt;/span&gt;. &lt;span style=\"background-color: #fdf2d0;\"&gt;To my rivals' surprise, being the only member of my own \"team\" I gained a victory&lt;/span&gt;.&lt;/p&gt; &lt;p style=\"text-align: right;\"&gt;&lt;span style=\"color: #d8d2e7;\"&gt;???&lt;/span&gt; = claim&amp;nbsp; &amp;nbsp; &amp;nbsp;&lt;span style=\"color: #fdf2d0;\"&gt;???&lt;/span&gt; = premise&lt;/p&gt;</td>\n",
       "      <td>['I must not divide tasks and duties between team members, share responsibility and benefits, and spend time on teambuilding', 'These advantages are especially important in situations of shortage of time', 'About a year ago I was lucky to become a participant of student brainstorming game', 'To my rivals\\' surprise, being the only member of my own \"team\" I gained a victory']</td>\n",
       "      <td>&lt;p&gt;Furthermore/moreover, &lt;span style=\"background-color: #d8d2e7;\"&gt;&lt;span style=\"background-color: #fdf2d0;\"&gt;I must not divide tasks and duties between team members, share responsibility and benefits, and spend time on teambuilding&lt;/span&gt; &lt;/span&gt;. In other words, &lt;span style=\"background-color: #fdf2d0;\"&gt;I must not divide tasks and duties between team members, share responsibility and benefits, and spend time on teambuilding&lt;/span&gt;. &lt;span style=\"background-color: #fdf2d0;\"&gt;These advantages are especially important in situations of shortage of time&lt;/span&gt;. &lt;span style=\"background-color: #fdf2d0;\"&gt;About a year ago I was lucky to become a participant of student brainstorming game&lt;/span&gt;. &lt;span style=\"background-color: #fdf2d0;\"&gt;To my rivals' surprise, being the only member of my own \"team\" I gained a victory&lt;/span&gt;.&lt;/p&gt; &lt;p style=\"text-align: right;\"&gt;&lt;span style=\"color: #d8d2e7;\"&gt;???&lt;/span&gt; = claim&amp;nbsp; &amp;nbsp; &amp;nbsp;&lt;span style=\"color: #fdf2d0;\"&gt;???&lt;/span&gt; = premise&lt;/p&gt;</td>\n",
       "      <td>&lt;p&gt;Furthermore/moreover, &lt;span style=\"background-color: #d8d2e7;\"&gt; team building is a very important aspect of life&lt;/span&gt;. In other words, &lt;span style=\"background-color: #fdf2d0;\"&gt;I must not divide tasks and duties between team members, share responsibility and benefits, and spend time on teambuilding&lt;/span&gt;. &lt;span style=\"background-color: #fdf2d0;\"&gt;These advantages are especially important in situations of shortage of time&lt;/span&gt;. &lt;span style=\"background-color: #fdf2d0;\"&gt;About a year ago I was lucky to become a participant of student brainstorming game&lt;/span&gt;. &lt;span style=\"background-color: #fdf2d0;\"&gt;To my rivals' surprise, being the only member of my own \"team\" I gained a victory&lt;/span&gt;.&lt;/p&gt; &lt;p style=\"text-align: right;\"&gt;&lt;span style=\"color: #d8d2e7;\"&gt;???&lt;/span&gt; = claim&amp;nbsp; &amp;nbsp; &amp;nbsp;&lt;span style=\"color: #fdf2d0;\"&gt;???&lt;/span&gt; = premise&lt;/p&gt;</td>\n",
       "      <td>&lt;p&gt;Furthermore/moreover, &lt;span style=\"background-color: #d8d2e7;\"&gt;working alone allows me to avoid spending time and efforts on many things that are an integral part of teamwork&lt;/span&gt;. In other words, &lt;span style=\"background-color: #fdf2d0;\"&gt;I must not divide tasks and duties between team members, share responsibility and benefits, and spend time on teambuilding&lt;/span&gt;. &lt;span style=\"background-color: #fdf2d0;\"&gt;These advantages are especially important in situations of shortage of time&lt;/span&gt;. &lt;span style=\"background-color: #fdf2d0;\"&gt;About a year ago I was lucky to become a participant of student brainstorming game&lt;/span&gt;. &lt;span style=\"background-color: #fdf2d0;\"&gt;To my rivals' surprise, being the only member of my own \"team\" I gained a victory&lt;/span&gt;.&lt;/p&gt; &lt;p style=\"text-align: right;\"&gt;&lt;span style=\"color: #d8d2e7;\"&gt;???&lt;/span&gt; = claim&amp;nbsp; &amp;nbsp; &amp;nbsp;&lt;span style=\"color: #fdf2d0;\"&gt;???&lt;/span&gt; = premise&lt;/p&gt;</td>\n",
       "      <td>2</td>\n",
       "      <td>1</td>\n",
       "      <td>0</td>\n",
       "    </tr>\n",
       "  </tbody>\n",
       "</table>\n",
       "</div>"
      ],
      "text/plain": [
       "   Column1       index  local_sufficency  \\\n",
       "0        0  essay145_1                 0   \n",
       "1        2  essay100_2                 0   \n",
       "2        3  essay149_2                 0   \n",
       "3        4  essay226_1                 1   \n",
       "4        6  essay320_2                 1   \n",
       "\n",
       "                                                                                                                                                                                                                                                                                                                                                                                                                                                                                                                                                                                                                                                                                                                                                                                                                                                                                                                                                                                                                                                                                                                        gt  \\\n",
       "0                                                                                                                                                             <p>The first and foremost reason lies in an inevitable fact that <span style=\"background-color: #fdf2d0;\">the more advanced facilities we have, the more chances we can increase our knowledge</span>. For example, <span style=\"background-color: #fdf2d0;\">library is a good place for students to study or research</span>. <span style=\"background-color: #fdf2d0;\">They can concentrate on the subjects with a tranquil ambience; also, there are a lot of references for students to utilize</span>. <span style=\"background-color: #fdf2d0;\">With this convenient and versatile facility, students can improve their learning condition</span>. Therefore, we can commence to agree that <span style=\"background-color: #d8d2e7;\">certain facilities are beneficial to students</span>. </p> <p style=\"text-align: right;\"><span style=\"color: #d8d2e7;\">???</span> = claim&nbsp; &nbsp; &nbsp;<span style=\"color: #fdf2d0;\">???</span> = premise</p>   \n",
       "1  <p>Looking from another perspective, <span style=\"background-color: #d8d2e7;\">there are also a significant number of people who are very successful in their fields without going to university</span>. <span style=\"background-color: #fdf2d0;\">Take for instance those who start their own business</span>. <span style=\"background-color: #fdf2d0;\">These people depend solely on hard work and luck</span>. Interestingly, <span style=\"background-color: #fdf2d0;\">for some of them it proved to be a profitable job</span>. To cite an example, <span style=\"background-color: #fdf2d0;\">Michael Dell who is the founder and the CEO of Dell left college at 19</span>. Initially, <span style=\"background-color: #fdf2d0;\">he started his computer company in his college dorm room</span>. Eventually, <span style=\"background-color: #fdf2d0;\">he used his earnings as well as his family's loan in order to progress to be who he is now</span>.</p> <p style=\"text-align: right;\"><span style=\"color: #d8d2e7;\">???</span> = claim&nbsp; &nbsp; &nbsp;<span style=\"color: #fdf2d0;\">???</span> = premise</p>   \n",
       "2                                                                                                                     <p>What is more, <span style=\"background-color: #d8d2e7;\">family members can help us in many other aspects</span>. For example, <span style=\"background-color: #fdf2d0;\">when I did not know what major to choose when I attend university, my father told a lot about different majors</span>. <span style=\"background-color: #fdf2d0;\">He shared his own experience with me, which helped me quite a lot</span>. <span style=\"background-color: #fdf2d0;\">Parents are quite experienced than their child</span>, <span style=\"background-color: #fdf2d0;\">they can guide them toward the right direction</span>. Besides, <span style=\"background-color: #fdf2d0;\">parents can told their children as many as they can</span>. <span style=\"background-color: #fdf2d0;\">What they want is help their child to make a progress</span>.</p> <p style=\"text-align: right;\"><span style=\"color: #d8d2e7;\">???</span> = claim&nbsp; &nbsp; &nbsp;<span style=\"color: #fdf2d0;\">???</span> = premise</p>   \n",
       "3                                                                                                                                                <p>First of all, <span style=\"background-color: #fdf2d0;\">the predecessors' mistakes are the first thing that we should consider when learning about the past</span>. <span style=\"background-color: #fdf2d0;\">As everyone's life is too short to risk trying anything without any prepare, we all should learn about other's mistakes</span> so that <span style=\"background-color: #fdf2d0;\">we can avoid making the same ones</span>. <span style=\"background-color: #fdf2d0;\">Each mistake, from the smallest to the bigger one, is a treasure of experience, which, if we can make full use of, will make us well-prepared for many complicated situations of our life</span>. Therefore, <span style=\"background-color: #d8d2e7;\">past obviously saves ourselves a bunch of failures and times</span>.</p> <p style=\"text-align: right;\"><span style=\"color: #d8d2e7;\">???</span> = claim&nbsp; &nbsp; &nbsp;<span style=\"color: #fdf2d0;\">???</span> = premise</p>   \n",
       "4                                                                                                                                                                   <p>Furthermore/moreover, <span style=\"background-color: #d8d2e7;\">working alone allows me to avoid spending time and efforts on many things that are an integral part of teamwork</span>. In other words, <span style=\"background-color: #fdf2d0;\">I must not divide tasks and duties between team members, share responsibility and benefits, and spend time on teambuilding</span>. <span style=\"background-color: #fdf2d0;\">These advantages are especially important in situations of shortage of time</span>. <span style=\"background-color: #fdf2d0;\">About a year ago I was lucky to become a participant of student brainstorming game</span>. <span style=\"background-color: #fdf2d0;\">To my rivals' surprise, being the only member of my own \"team\" I gained a victory</span>.</p> <p style=\"text-align: right;\"><span style=\"color: #d8d2e7;\">???</span> = claim&nbsp; &nbsp; &nbsp;<span style=\"color: #fdf2d0;\">???</span> = premise</p>   \n",
       "\n",
       "                                                                                                                                                                                                                                                                                                                                                                                                                                                                                                                                                                                                                                                                                                                                                                                                                                                                                                                                                                                                                                                                                                 supervised  \\\n",
       "0                                                                                                                             <p>The first and foremost reason lies in an inevitable fact that <span style=\"background-color: #fdf2d0;\">the more advanced facilities we have, the more chances we can increase our knowledge</span>. For example, <span style=\"background-color: #fdf2d0;\">library is a good place for students to study or research</span>. <span style=\"background-color: #fdf2d0;\">They can concentrate on the subjects with a tranquil ambience; also, there are a lot of references for students to utilize</span>. <span style=\"background-color: #fdf2d0;\">With this convenient and versatile facility, students can improve their learning condition</span>. Therefore, we can commence to agree that <span style=\"background-color: #d8d2e7;\"> the more advanced facilities we have, the better we can learn</span>. </p> <p style=\"text-align: right;\"><span style=\"color: #d8d2e7;\">???</span> = claim&nbsp; &nbsp; &nbsp;<span style=\"color: #fdf2d0;\">???</span> = premise</p>   \n",
       "1  <p>Looking from another perspective, <span style=\"background-color: #d8d2e7;\"> looking from another perspective, there are some people who have left college at a very young age</span>. <span style=\"background-color: #fdf2d0;\">Take for instance those who start their own business</span>. <span style=\"background-color: #fdf2d0;\">These people depend solely on hard work and luck</span>. Interestingly, <span style=\"background-color: #fdf2d0;\">for some of them it proved to be a profitable job</span>. To cite an example, <span style=\"background-color: #fdf2d0;\">Michael Dell who is the founder and the CEO of Dell left college at 19</span>. Initially, <span style=\"background-color: #fdf2d0;\">he started his computer company in his college dorm room</span>. Eventually, <span style=\"background-color: #fdf2d0;\">he used his earnings as well as his family's loan in order to progress to be who he is now</span>.</p> <p style=\"text-align: right;\"><span style=\"color: #d8d2e7;\">???</span> = claim&nbsp; &nbsp; &nbsp;<span style=\"color: #fdf2d0;\">???</span> = premise</p>   \n",
       "2                                                                                           <p>What is more, <span style=\"background-color: #d8d2e7;\"> parents can help their children to make the right decision</span>. For example, <span style=\"background-color: #fdf2d0;\">when I did not know what major to choose when I attend university, my father told a lot about different majors</span>. <span style=\"background-color: #fdf2d0;\">He shared his own experience with me, which helped me quite a lot</span>. <span style=\"background-color: #fdf2d0;\">Parents are quite experienced than their child</span>, <span style=\"background-color: #fdf2d0;\">they can guide them toward the right direction</span>. Besides, <span style=\"background-color: #fdf2d0;\">parents can told their children as many as they can</span>. <span style=\"background-color: #fdf2d0;\">What they want is help their child to make a progress</span>.</p> <p style=\"text-align: right;\"><span style=\"color: #d8d2e7;\">???</span> = claim&nbsp; &nbsp; &nbsp;<span style=\"color: #fdf2d0;\">???</span> = premise</p>   \n",
       "3                                                                                                                         <p>First of all, <span style=\"background-color: #fdf2d0;\">the predecessors' mistakes are the first thing that we should consider when learning about the past</span>. <span style=\"background-color: #fdf2d0;\">As everyone's life is too short to risk trying anything without any prepare, we all should learn about other's mistakes</span> so that <span style=\"background-color: #fdf2d0;\">we can avoid making the same ones</span>. <span style=\"background-color: #fdf2d0;\">Each mistake, from the smallest to the bigger one, is a treasure of experience, which, if we can make full use of, will make us well-prepared for many complicated situations of our life</span>. Therefore, <span style=\"background-color: #d8d2e7;\"> first of all, we should learn from the mistakes of our predecessors</span>.</p> <p style=\"text-align: right;\"><span style=\"color: #d8d2e7;\">???</span> = claim&nbsp; &nbsp; &nbsp;<span style=\"color: #fdf2d0;\">???</span> = premise</p>   \n",
       "4                                                                                                                                                                                                                  <p>Furthermore/moreover, <span style=\"background-color: #d8d2e7;\"> team building is a very important aspect of life</span>. In other words, <span style=\"background-color: #fdf2d0;\">I must not divide tasks and duties between team members, share responsibility and benefits, and spend time on teambuilding</span>. <span style=\"background-color: #fdf2d0;\">These advantages are especially important in situations of shortage of time</span>. <span style=\"background-color: #fdf2d0;\">About a year ago I was lucky to become a participant of student brainstorming game</span>. <span style=\"background-color: #fdf2d0;\">To my rivals' surprise, being the only member of my own \"team\" I gained a victory</span>.</p> <p style=\"text-align: right;\"><span style=\"color: #d8d2e7;\">???</span> = claim&nbsp; &nbsp; &nbsp;<span style=\"color: #fdf2d0;\">???</span> = premise</p>   \n",
       "\n",
       "                                                                                                                                                                                                                                                                                                                                                                                                                                                                                                                                                                                                                                                                                                                                                                                                                                                                                                                                                                                                                                                           unsupervised  \\\n",
       "0                                                                                                        <p>The first and foremost reason lies in an inevitable fact that <span style=\"background-color: #fdf2d0;\">the more advanced facilities we have, the more chances we can increase our knowledge</span>. For example, <span style=\"background-color: #fdf2d0;\">library is a good place for students to study or research</span>. <span style=\"background-color: #fdf2d0;\">They can concentrate on the subjects with a tranquil ambience; also, there are a lot of references for students to utilize</span>. <span style=\"background-color: #fdf2d0;\">With this convenient and versatile facility, students can improve their learning condition</span>. Therefore, we can commence to agree that <span style=\"background-color: #d8d2e7;\">library is the best place to study or research </span>. </p> <p style=\"text-align: right;\"><span style=\"color: #d8d2e7;\">???</span> = claim&nbsp; &nbsp; &nbsp;<span style=\"color: #fdf2d0;\">???</span> = premise</p>   \n",
       "1  <p>Looking from another perspective, <span style=\"background-color: #d8d2e7;\">there are a lot of people who do not have a college education </span>. <span style=\"background-color: #fdf2d0;\">Take for instance those who start their own business</span>. <span style=\"background-color: #fdf2d0;\">These people depend solely on hard work and luck</span>. Interestingly, <span style=\"background-color: #fdf2d0;\">for some of them it proved to be a profitable job</span>. To cite an example, <span style=\"background-color: #fdf2d0;\">Michael Dell who is the founder and the CEO of Dell left college at 19</span>. Initially, <span style=\"background-color: #fdf2d0;\">he started his computer company in his college dorm room</span>. Eventually, <span style=\"background-color: #fdf2d0;\">he used his earnings as well as his family's loan in order to progress to be who he is now</span>.</p> <p style=\"text-align: right;\"><span style=\"color: #d8d2e7;\">???</span> = claim&nbsp; &nbsp; &nbsp;<span style=\"color: #fdf2d0;\">???</span> = premise</p>   \n",
       "2                                                                  <p>What is more, <span style=\"background-color: #d8d2e7;\">parents can help their child to make a progress </span>. For example, <span style=\"background-color: #fdf2d0;\">when I did not know what major to choose when I attend university, my father told a lot about different majors</span>. <span style=\"background-color: #fdf2d0;\">He shared his own experience with me, which helped me quite a lot</span>. <span style=\"background-color: #fdf2d0;\">Parents are quite experienced than their child</span>, <span style=\"background-color: #fdf2d0;\">they can guide them toward the right direction</span>. Besides, <span style=\"background-color: #fdf2d0;\">parents can told their children as many as they can</span>. <span style=\"background-color: #fdf2d0;\">What they want is help their child to make a progress</span>.</p> <p style=\"text-align: right;\"><span style=\"color: #d8d2e7;\">???</span> = claim&nbsp; &nbsp; &nbsp;<span style=\"color: #fdf2d0;\">???</span> = premise</p>   \n",
       "3                                                                     <p>First of all, <span style=\"background-color: #fdf2d0;\">the predecessors' mistakes are the first thing that we should consider when learning about the past</span>. <span style=\"background-color: #fdf2d0;\">As everyone's life is too short to risk trying anything without any prepare, we all should learn about other's mistakes</span> so that <span style=\"background-color: #fdf2d0;\">we can avoid making the same ones</span>. <span style=\"background-color: #fdf2d0;\">Each mistake, from the smallest to the bigger one, is a treasure of experience, which, if we can make full use of, will make us well-prepared for many complicated situations of our life</span>. Therefore, <span style=\"background-color: #d8d2e7;\">we should learn from the mistakes of our predecessors and learn from their mistakes </span>.</p> <p style=\"text-align: right;\"><span style=\"color: #d8d2e7;\">???</span> = claim&nbsp; &nbsp; &nbsp;<span style=\"color: #fdf2d0;\">???</span> = premise</p>   \n",
       "4                                                    <p>Furthermore/moreover, <span style=\"background-color: #d8d2e7;\"><span style=\"background-color: #fdf2d0;\">I must not divide tasks and duties between team members, share responsibility and benefits, and spend time on teambuilding</span> </span>. In other words, <span style=\"background-color: #fdf2d0;\">I must not divide tasks and duties between team members, share responsibility and benefits, and spend time on teambuilding</span>. <span style=\"background-color: #fdf2d0;\">These advantages are especially important in situations of shortage of time</span>. <span style=\"background-color: #fdf2d0;\">About a year ago I was lucky to become a participant of student brainstorming game</span>. <span style=\"background-color: #fdf2d0;\">To my rivals' surprise, being the only member of my own \"team\" I gained a victory</span>.</p> <p style=\"text-align: right;\"><span style=\"color: #d8d2e7;\">???</span> = claim&nbsp; &nbsp; &nbsp;<span style=\"color: #fdf2d0;\">???</span> = premise</p>   \n",
       "\n",
       "                                                                                                                                                                                                                                                                                                                                                                                                                                                               premises  \\\n",
       "0                                                                                     ['the more advanced facilities we have, the more chances we can increase our knowledge', 'library is a good place for students to study or research', 'They can concentrate on the subjects with a tranquil ambience; also, there are a lot of references for students to utilize', 'With this convenient and versatile facility, students can improve their learning condition']   \n",
       "1                                                                 ['Take for instance those who start their own business', 'These people depend solely on hard work and luck', 'for some of them it proved to be a profitable job', 'Michael Dell who is the founder and the CEO of Dell left college at 19', 'he started his computer company in his college dorm room', \"he used his earnings as well as his family's loan in order to progress to be who he is now\"]   \n",
       "2                                                           ['when I did not know what major to choose when I attend university, my father told a lot about different majors', 'He shared his own experience with me, which helped me quite a lot', 'Parents are quite experienced than their child', 'they can guide them toward the right direction', 'parents can told their children as many as they can', 'What they want is help their child to make a progress']   \n",
       "3  [\"the predecessors' mistakes are the first thing that we should consider when learning about the past\", \"As everyone's life is too short to risk trying anything without any prepare, we all should learn about other's mistakes\", 'we can avoid making the same ones', 'Each mistake, from the smallest to the bigger one, is a treasure of experience, which, if we can make full use of, will make us well-prepared for many complicated situations of our life']   \n",
       "4                                                                             ['I must not divide tasks and duties between team members, share responsibility and benefits, and spend time on teambuilding', 'These advantages are especially important in situations of shortage of time', 'About a year ago I was lucky to become a participant of student brainstorming game', 'To my rivals\\' surprise, being the only member of my own \"team\" I gained a victory']   \n",
       "\n",
       "                                                                                                                                                                                                                                                                                                                                                                                                                                                                                                                                                                                                                                                                                                                                                                                                                                                                                                                                                                                                                                                                  first  \\\n",
       "0                                                                                                        <p>The first and foremost reason lies in an inevitable fact that <span style=\"background-color: #fdf2d0;\">the more advanced facilities we have, the more chances we can increase our knowledge</span>. For example, <span style=\"background-color: #fdf2d0;\">library is a good place for students to study or research</span>. <span style=\"background-color: #fdf2d0;\">They can concentrate on the subjects with a tranquil ambience; also, there are a lot of references for students to utilize</span>. <span style=\"background-color: #fdf2d0;\">With this convenient and versatile facility, students can improve their learning condition</span>. Therefore, we can commence to agree that <span style=\"background-color: #d8d2e7;\">library is the best place to study or research </span>. </p> <p style=\"text-align: right;\"><span style=\"color: #d8d2e7;\">???</span> = claim&nbsp; &nbsp; &nbsp;<span style=\"color: #fdf2d0;\">???</span> = premise</p>   \n",
       "1  <p>Looking from another perspective, <span style=\"background-color: #d8d2e7;\">there are a lot of people who do not have a college education </span>. <span style=\"background-color: #fdf2d0;\">Take for instance those who start their own business</span>. <span style=\"background-color: #fdf2d0;\">These people depend solely on hard work and luck</span>. Interestingly, <span style=\"background-color: #fdf2d0;\">for some of them it proved to be a profitable job</span>. To cite an example, <span style=\"background-color: #fdf2d0;\">Michael Dell who is the founder and the CEO of Dell left college at 19</span>. Initially, <span style=\"background-color: #fdf2d0;\">he started his computer company in his college dorm room</span>. Eventually, <span style=\"background-color: #fdf2d0;\">he used his earnings as well as his family's loan in order to progress to be who he is now</span>.</p> <p style=\"text-align: right;\"><span style=\"color: #d8d2e7;\">???</span> = claim&nbsp; &nbsp; &nbsp;<span style=\"color: #fdf2d0;\">???</span> = premise</p>   \n",
       "2                                                                  <p>What is more, <span style=\"background-color: #d8d2e7;\">parents can help their child to make a progress </span>. For example, <span style=\"background-color: #fdf2d0;\">when I did not know what major to choose when I attend university, my father told a lot about different majors</span>. <span style=\"background-color: #fdf2d0;\">He shared his own experience with me, which helped me quite a lot</span>. <span style=\"background-color: #fdf2d0;\">Parents are quite experienced than their child</span>, <span style=\"background-color: #fdf2d0;\">they can guide them toward the right direction</span>. Besides, <span style=\"background-color: #fdf2d0;\">parents can told their children as many as they can</span>. <span style=\"background-color: #fdf2d0;\">What they want is help their child to make a progress</span>.</p> <p style=\"text-align: right;\"><span style=\"color: #d8d2e7;\">???</span> = claim&nbsp; &nbsp; &nbsp;<span style=\"color: #fdf2d0;\">???</span> = premise</p>   \n",
       "3                                                                                             <p>First of all, <span style=\"background-color: #fdf2d0;\">the predecessors' mistakes are the first thing that we should consider when learning about the past</span>. <span style=\"background-color: #fdf2d0;\">As everyone's life is too short to risk trying anything without any prepare, we all should learn about other's mistakes</span> so that <span style=\"background-color: #fdf2d0;\">we can avoid making the same ones</span>. <span style=\"background-color: #fdf2d0;\">Each mistake, from the smallest to the bigger one, is a treasure of experience, which, if we can make full use of, will make us well-prepared for many complicated situations of our life</span>. Therefore, <span style=\"background-color: #d8d2e7;\">past obviously saves ourselves a bunch of failures and times</span>.</p> <p style=\"text-align: right;\"><span style=\"color: #d8d2e7;\">???</span> = claim&nbsp; &nbsp; &nbsp;<span style=\"color: #fdf2d0;\">???</span> = premise</p>   \n",
       "4                                                    <p>Furthermore/moreover, <span style=\"background-color: #d8d2e7;\"><span style=\"background-color: #fdf2d0;\">I must not divide tasks and duties between team members, share responsibility and benefits, and spend time on teambuilding</span> </span>. In other words, <span style=\"background-color: #fdf2d0;\">I must not divide tasks and duties between team members, share responsibility and benefits, and spend time on teambuilding</span>. <span style=\"background-color: #fdf2d0;\">These advantages are especially important in situations of shortage of time</span>. <span style=\"background-color: #fdf2d0;\">About a year ago I was lucky to become a participant of student brainstorming game</span>. <span style=\"background-color: #fdf2d0;\">To my rivals' surprise, being the only member of my own \"team\" I gained a victory</span>.</p> <p style=\"text-align: right;\"><span style=\"color: #d8d2e7;\">???</span> = claim&nbsp; &nbsp; &nbsp;<span style=\"color: #fdf2d0;\">???</span> = premise</p>   \n",
       "\n",
       "                                                                                                                                                                                                                                                                                                                                                                                                                                                                                                                                                                                                                                                                                                                                                                                                                                                                                                                                                                                                                                                                                                                    second  \\\n",
       "0                                                                                                                                                             <p>The first and foremost reason lies in an inevitable fact that <span style=\"background-color: #fdf2d0;\">the more advanced facilities we have, the more chances we can increase our knowledge</span>. For example, <span style=\"background-color: #fdf2d0;\">library is a good place for students to study or research</span>. <span style=\"background-color: #fdf2d0;\">They can concentrate on the subjects with a tranquil ambience; also, there are a lot of references for students to utilize</span>. <span style=\"background-color: #fdf2d0;\">With this convenient and versatile facility, students can improve their learning condition</span>. Therefore, we can commence to agree that <span style=\"background-color: #d8d2e7;\">certain facilities are beneficial to students</span>. </p> <p style=\"text-align: right;\"><span style=\"color: #d8d2e7;\">???</span> = claim&nbsp; &nbsp; &nbsp;<span style=\"color: #fdf2d0;\">???</span> = premise</p>   \n",
       "1  <p>Looking from another perspective, <span style=\"background-color: #d8d2e7;\">there are also a significant number of people who are very successful in their fields without going to university</span>. <span style=\"background-color: #fdf2d0;\">Take for instance those who start their own business</span>. <span style=\"background-color: #fdf2d0;\">These people depend solely on hard work and luck</span>. Interestingly, <span style=\"background-color: #fdf2d0;\">for some of them it proved to be a profitable job</span>. To cite an example, <span style=\"background-color: #fdf2d0;\">Michael Dell who is the founder and the CEO of Dell left college at 19</span>. Initially, <span style=\"background-color: #fdf2d0;\">he started his computer company in his college dorm room</span>. Eventually, <span style=\"background-color: #fdf2d0;\">he used his earnings as well as his family's loan in order to progress to be who he is now</span>.</p> <p style=\"text-align: right;\"><span style=\"color: #d8d2e7;\">???</span> = claim&nbsp; &nbsp; &nbsp;<span style=\"color: #fdf2d0;\">???</span> = premise</p>   \n",
       "2                                                                                                          <p>What is more, <span style=\"background-color: #d8d2e7;\"> parents can help their children to make the right decision</span>. For example, <span style=\"background-color: #fdf2d0;\">when I did not know what major to choose when I attend university, my father told a lot about different majors</span>. <span style=\"background-color: #fdf2d0;\">He shared his own experience with me, which helped me quite a lot</span>. <span style=\"background-color: #fdf2d0;\">Parents are quite experienced than their child</span>, <span style=\"background-color: #fdf2d0;\">they can guide them toward the right direction</span>. Besides, <span style=\"background-color: #fdf2d0;\">parents can told their children as many as they can</span>. <span style=\"background-color: #fdf2d0;\">What they want is help their child to make a progress</span>.</p> <p style=\"text-align: right;\"><span style=\"color: #d8d2e7;\">???</span> = claim&nbsp; &nbsp; &nbsp;<span style=\"color: #fdf2d0;\">???</span> = premise</p>   \n",
       "3                                                                                                                        <p>First of all, <span style=\"background-color: #fdf2d0;\">the predecessors' mistakes are the first thing that we should consider when learning about the past</span>. <span style=\"background-color: #fdf2d0;\">As everyone's life is too short to risk trying anything without any prepare, we all should learn about other's mistakes</span> so that <span style=\"background-color: #fdf2d0;\">we can avoid making the same ones</span>. <span style=\"background-color: #fdf2d0;\">Each mistake, from the smallest to the bigger one, is a treasure of experience, which, if we can make full use of, will make us well-prepared for many complicated situations of our life</span>. Therefore, <span style=\"background-color: #d8d2e7;\">we should learn from the mistakes of our predecessors and learn from their mistakes </span>.</p> <p style=\"text-align: right;\"><span style=\"color: #d8d2e7;\">???</span> = claim&nbsp; &nbsp; &nbsp;<span style=\"color: #fdf2d0;\">???</span> = premise</p>   \n",
       "4                                                                                                                                                                                                                                 <p>Furthermore/moreover, <span style=\"background-color: #d8d2e7;\"> team building is a very important aspect of life</span>. In other words, <span style=\"background-color: #fdf2d0;\">I must not divide tasks and duties between team members, share responsibility and benefits, and spend time on teambuilding</span>. <span style=\"background-color: #fdf2d0;\">These advantages are especially important in situations of shortage of time</span>. <span style=\"background-color: #fdf2d0;\">About a year ago I was lucky to become a participant of student brainstorming game</span>. <span style=\"background-color: #fdf2d0;\">To my rivals' surprise, being the only member of my own \"team\" I gained a victory</span>.</p> <p style=\"text-align: right;\"><span style=\"color: #d8d2e7;\">???</span> = claim&nbsp; &nbsp; &nbsp;<span style=\"color: #fdf2d0;\">???</span> = premise</p>   \n",
       "\n",
       "                                                                                                                                                                                                                                                                                                                                                                                                                                                                                                                                                                                                                                                                                                                                                                                                                                                                                                                                                                                                                                                                                                      third  \\\n",
       "0                                                                                                                             <p>The first and foremost reason lies in an inevitable fact that <span style=\"background-color: #fdf2d0;\">the more advanced facilities we have, the more chances we can increase our knowledge</span>. For example, <span style=\"background-color: #fdf2d0;\">library is a good place for students to study or research</span>. <span style=\"background-color: #fdf2d0;\">They can concentrate on the subjects with a tranquil ambience; also, there are a lot of references for students to utilize</span>. <span style=\"background-color: #fdf2d0;\">With this convenient and versatile facility, students can improve their learning condition</span>. Therefore, we can commence to agree that <span style=\"background-color: #d8d2e7;\"> the more advanced facilities we have, the better we can learn</span>. </p> <p style=\"text-align: right;\"><span style=\"color: #d8d2e7;\">???</span> = claim&nbsp; &nbsp; &nbsp;<span style=\"color: #fdf2d0;\">???</span> = premise</p>   \n",
       "1  <p>Looking from another perspective, <span style=\"background-color: #d8d2e7;\"> looking from another perspective, there are some people who have left college at a very young age</span>. <span style=\"background-color: #fdf2d0;\">Take for instance those who start their own business</span>. <span style=\"background-color: #fdf2d0;\">These people depend solely on hard work and luck</span>. Interestingly, <span style=\"background-color: #fdf2d0;\">for some of them it proved to be a profitable job</span>. To cite an example, <span style=\"background-color: #fdf2d0;\">Michael Dell who is the founder and the CEO of Dell left college at 19</span>. Initially, <span style=\"background-color: #fdf2d0;\">he started his computer company in his college dorm room</span>. Eventually, <span style=\"background-color: #fdf2d0;\">he used his earnings as well as his family's loan in order to progress to be who he is now</span>.</p> <p style=\"text-align: right;\"><span style=\"color: #d8d2e7;\">???</span> = claim&nbsp; &nbsp; &nbsp;<span style=\"color: #fdf2d0;\">???</span> = premise</p>   \n",
       "2                                                                                                      <p>What is more, <span style=\"background-color: #d8d2e7;\">family members can help us in many other aspects</span>. For example, <span style=\"background-color: #fdf2d0;\">when I did not know what major to choose when I attend university, my father told a lot about different majors</span>. <span style=\"background-color: #fdf2d0;\">He shared his own experience with me, which helped me quite a lot</span>. <span style=\"background-color: #fdf2d0;\">Parents are quite experienced than their child</span>, <span style=\"background-color: #fdf2d0;\">they can guide them toward the right direction</span>. Besides, <span style=\"background-color: #fdf2d0;\">parents can told their children as many as they can</span>. <span style=\"background-color: #fdf2d0;\">What they want is help their child to make a progress</span>.</p> <p style=\"text-align: right;\"><span style=\"color: #d8d2e7;\">???</span> = claim&nbsp; &nbsp; &nbsp;<span style=\"color: #fdf2d0;\">???</span> = premise</p>   \n",
       "3                                                                                                                         <p>First of all, <span style=\"background-color: #fdf2d0;\">the predecessors' mistakes are the first thing that we should consider when learning about the past</span>. <span style=\"background-color: #fdf2d0;\">As everyone's life is too short to risk trying anything without any prepare, we all should learn about other's mistakes</span> so that <span style=\"background-color: #fdf2d0;\">we can avoid making the same ones</span>. <span style=\"background-color: #fdf2d0;\">Each mistake, from the smallest to the bigger one, is a treasure of experience, which, if we can make full use of, will make us well-prepared for many complicated situations of our life</span>. Therefore, <span style=\"background-color: #d8d2e7;\"> first of all, we should learn from the mistakes of our predecessors</span>.</p> <p style=\"text-align: right;\"><span style=\"color: #d8d2e7;\">???</span> = claim&nbsp; &nbsp; &nbsp;<span style=\"color: #fdf2d0;\">???</span> = premise</p>   \n",
       "4                                                                                                                                                    <p>Furthermore/moreover, <span style=\"background-color: #d8d2e7;\">working alone allows me to avoid spending time and efforts on many things that are an integral part of teamwork</span>. In other words, <span style=\"background-color: #fdf2d0;\">I must not divide tasks and duties between team members, share responsibility and benefits, and spend time on teambuilding</span>. <span style=\"background-color: #fdf2d0;\">These advantages are especially important in situations of shortage of time</span>. <span style=\"background-color: #fdf2d0;\">About a year ago I was lucky to become a participant of student brainstorming game</span>. <span style=\"background-color: #fdf2d0;\">To my rivals' surprise, being the only member of my own \"team\" I gained a victory</span>.</p> <p style=\"text-align: right;\"><span style=\"color: #d8d2e7;\">???</span> = claim&nbsp; &nbsp; &nbsp;<span style=\"color: #fdf2d0;\">???</span> = premise</p>   \n",
       "\n",
       "   id1  id2  id3  \n",
       "0    2    0    1  \n",
       "1    2    0    1  \n",
       "2    2    1    0  \n",
       "3    0    2    1  \n",
       "4    2    1    0  "
      ]
     },
     "execution_count": 23,
     "metadata": {},
     "output_type": "execute_result"
    }
   ],
   "source": [
    "study_df.head()"
   ]
  },
  {
   "cell_type": "code",
   "execution_count": 24,
   "metadata": {},
   "outputs": [
    {
     "data": {
      "text/html": [
       "<div>\n",
       "<style scoped>\n",
       "    .dataframe tbody tr th:only-of-type {\n",
       "        vertical-align: middle;\n",
       "    }\n",
       "\n",
       "    .dataframe tbody tr th {\n",
       "        vertical-align: top;\n",
       "    }\n",
       "\n",
       "    .dataframe thead th {\n",
       "        text-align: right;\n",
       "    }\n",
       "</style>\n",
       "<table border=\"1\" class=\"dataframe\">\n",
       "  <thead>\n",
       "    <tr style=\"text-align: right;\">\n",
       "      <th></th>\n",
       "      <th>Submission IP</th>\n",
       "      <th>2.1.1 Are the premises sufficient to draw the conclusion?</th>\n",
       "      <th>2.1.2 How likely is it that the claim will be inferred from the context?</th>\n",
       "      <th>1.1.1 Are the premises sufficient to draw the conclusion?</th>\n",
       "      <th>19.1.3 How can the claim be composed from the context?</th>\n",
       "      <th>5.1.1 Are the premises sufficient to draw the conclusion?</th>\n",
       "      <th>6.2.1 Are the premises sufficient to draw the conclusion?</th>\n",
       "      <th>17.1.3 How can the claim be composed from the context?</th>\n",
       "      <th>5.3.1 Are the premises sufficient to draw the conclusion?</th>\n",
       "      <th>5.1.2 How likely is it that the claim will be inferred from the context?</th>\n",
       "      <th>...</th>\n",
       "      <th>76.3.2 How likely is it that the claim will be inferred from the context?</th>\n",
       "      <th>100.1.3 How can the claim be composed from the context?</th>\n",
       "      <th>87.1.2 How likely is it that the claim will be inferred from the context?</th>\n",
       "      <th>76.3.3 How can the claim be composed from the context?</th>\n",
       "      <th>76.1.1 Are the premises sufficient to draw the conclusion?</th>\n",
       "      <th>77.1.1 Are the premises sufficient to draw the conclusion?</th>\n",
       "      <th>77.1.2 How likely is it that the claim will be inferred from the context?</th>\n",
       "      <th>76.1.2 How likely is it that the claim will be inferred from the context?</th>\n",
       "      <th>77.1.3 How can the claim be composed from the context?</th>\n",
       "      <th>76.1.3 How can the claim be composed from the context?</th>\n",
       "    </tr>\n",
       "  </thead>\n",
       "  <tbody>\n",
       "    <tr>\n",
       "      <th>0</th>\n",
       "      <td>95.222.24.213</td>\n",
       "      <td>1 (not sufficient)</td>\n",
       "      <td>3 (possible)</td>\n",
       "      <td>4 (rather sufficient)</td>\n",
       "      <td>4 (inference)</td>\n",
       "      <td>4 (rather sufficient)</td>\n",
       "      <td>2 (rather insufficient)</td>\n",
       "      <td>4 (inference)</td>\n",
       "      <td>3 (undecided)</td>\n",
       "      <td>4 (likely)</td>\n",
       "      <td>...</td>\n",
       "      <td>4 (likely)</td>\n",
       "      <td>4 (inference)</td>\n",
       "      <td>3 (possible)</td>\n",
       "      <td>4 (inference)</td>\n",
       "      <td>2 (rather insufficient)</td>\n",
       "      <td>1 (not sufficient)</td>\n",
       "      <td>2 (unlikely)</td>\n",
       "      <td>4 (likely)</td>\n",
       "      <td>4 (inference)</td>\n",
       "      <td>4 (inference)</td>\n",
       "    </tr>\n",
       "    <tr>\n",
       "      <th>1</th>\n",
       "      <td>37.201.154.50</td>\n",
       "      <td>4 (rather sufficient)</td>\n",
       "      <td>4 (likely)</td>\n",
       "      <td>4 (rather sufficient)</td>\n",
       "      <td>4 (inference)</td>\n",
       "      <td>4 (rather sufficient)</td>\n",
       "      <td>4 (rather sufficient)</td>\n",
       "      <td>5 (can't be composed)</td>\n",
       "      <td>3 (undecided)</td>\n",
       "      <td>4 (likely)</td>\n",
       "      <td>...</td>\n",
       "      <td>3 (possible)</td>\n",
       "      <td>4 (inference)</td>\n",
       "      <td>3 (possible)</td>\n",
       "      <td>4 (inference)</td>\n",
       "      <td>3 (undecided)</td>\n",
       "      <td>3 (undecided)</td>\n",
       "      <td>3 (possible)</td>\n",
       "      <td>3 (possible)</td>\n",
       "      <td>4 (inference)</td>\n",
       "      <td>4 (inference)</td>\n",
       "    </tr>\n",
       "    <tr>\n",
       "      <th>2</th>\n",
       "      <td>93.225.53.68_2</td>\n",
       "      <td>3 (undecided)</td>\n",
       "      <td>4 (likely)</td>\n",
       "      <td>5 (sufficient)</td>\n",
       "      <td>3 (copying + fusion)</td>\n",
       "      <td>3 (undecided)</td>\n",
       "      <td>2 (rather insufficient)</td>\n",
       "      <td>4 (inference)</td>\n",
       "      <td>5 (sufficient)</td>\n",
       "      <td>3 (possible)</td>\n",
       "      <td>...</td>\n",
       "      <td>5  (very likely)</td>\n",
       "      <td>4 (inference)</td>\n",
       "      <td>3 (possible)</td>\n",
       "      <td>2 (synonymous copying)</td>\n",
       "      <td>4 (rather sufficient)</td>\n",
       "      <td>3 (undecided)</td>\n",
       "      <td>3 (possible)</td>\n",
       "      <td>4 (likely)</td>\n",
       "      <td>4 (inference)</td>\n",
       "      <td>2 (synonymous copying)</td>\n",
       "    </tr>\n",
       "    <tr>\n",
       "      <th>3</th>\n",
       "      <td>93.225.53.68</td>\n",
       "      <td>3 (undecided)</td>\n",
       "      <td>2 (unlikely)</td>\n",
       "      <td>4 (rather sufficient)</td>\n",
       "      <td>4 (inference)</td>\n",
       "      <td>4 (rather sufficient)</td>\n",
       "      <td>4 (rather sufficient)</td>\n",
       "      <td>4 (inference)</td>\n",
       "      <td>2 (rather insufficient)</td>\n",
       "      <td>4 (likely)</td>\n",
       "      <td>...</td>\n",
       "      <td>3 (possible)</td>\n",
       "      <td>4 (inference)</td>\n",
       "      <td>3 (possible)</td>\n",
       "      <td>3 (copying + fusion)</td>\n",
       "      <td>3 (undecided)</td>\n",
       "      <td>3 (undecided)</td>\n",
       "      <td>4 (likely)</td>\n",
       "      <td>4 (likely)</td>\n",
       "      <td>4 (inference)</td>\n",
       "      <td>4 (inference)</td>\n",
       "    </tr>\n",
       "    <tr>\n",
       "      <th>4</th>\n",
       "      <td>94.114.198.82</td>\n",
       "      <td>3 (undecided)</td>\n",
       "      <td>3 (possible)</td>\n",
       "      <td>4 (rather sufficient)</td>\n",
       "      <td>4 (inference)</td>\n",
       "      <td>1 (not sufficient)</td>\n",
       "      <td>4 (rather sufficient)</td>\n",
       "      <td>4 (inference)</td>\n",
       "      <td>3 (undecided)</td>\n",
       "      <td>1 (very unlikely)</td>\n",
       "      <td>...</td>\n",
       "      <td>4 (likely)</td>\n",
       "      <td>4 (inference)</td>\n",
       "      <td>4 (likely)</td>\n",
       "      <td>4 (inference)</td>\n",
       "      <td>4 (rather sufficient)</td>\n",
       "      <td>4 (rather sufficient)</td>\n",
       "      <td>3 (possible)</td>\n",
       "      <td>3 (possible)</td>\n",
       "      <td>4 (inference)</td>\n",
       "      <td>4 (inference)</td>\n",
       "    </tr>\n",
       "  </tbody>\n",
       "</table>\n",
       "<p>5 rows × 901 columns</p>\n",
       "</div>"
      ],
      "text/plain": [
       "    Submission IP 2.1.1 Are the premises sufficient to draw the conclusion?  \\\n",
       "0   95.222.24.213                                        1 (not sufficient)   \n",
       "1   37.201.154.50                                     4 (rather sufficient)   \n",
       "2  93.225.53.68_2                                             3 (undecided)   \n",
       "3    93.225.53.68                                             3 (undecided)   \n",
       "4   94.114.198.82                                             3 (undecided)   \n",
       "\n",
       "  2.1.2 How likely is it that the claim will be inferred from the context?  \\\n",
       "0                                                             3 (possible)   \n",
       "1                                                               4 (likely)   \n",
       "2                                                               4 (likely)   \n",
       "3                                                             2 (unlikely)   \n",
       "4                                                             3 (possible)   \n",
       "\n",
       "  1.1.1 Are the premises sufficient to draw the conclusion?  \\\n",
       "0                                     4 (rather sufficient)   \n",
       "1                                     4 (rather sufficient)   \n",
       "2                                            5 (sufficient)   \n",
       "3                                     4 (rather sufficient)   \n",
       "4                                     4 (rather sufficient)   \n",
       "\n",
       "  19.1.3 How can the claim be composed from the context?  \\\n",
       "0                                          4 (inference)   \n",
       "1                                          4 (inference)   \n",
       "2                                   3 (copying + fusion)   \n",
       "3                                          4 (inference)   \n",
       "4                                          4 (inference)   \n",
       "\n",
       "  5.1.1 Are the premises sufficient to draw the conclusion?  \\\n",
       "0                                     4 (rather sufficient)   \n",
       "1                                     4 (rather sufficient)   \n",
       "2                                             3 (undecided)   \n",
       "3                                     4 (rather sufficient)   \n",
       "4                                        1 (not sufficient)   \n",
       "\n",
       "  6.2.1 Are the premises sufficient to draw the conclusion?  \\\n",
       "0                                   2 (rather insufficient)   \n",
       "1                                     4 (rather sufficient)   \n",
       "2                                   2 (rather insufficient)   \n",
       "3                                     4 (rather sufficient)   \n",
       "4                                     4 (rather sufficient)   \n",
       "\n",
       "  17.1.3 How can the claim be composed from the context?  \\\n",
       "0                                          4 (inference)   \n",
       "1                                  5 (can't be composed)   \n",
       "2                                          4 (inference)   \n",
       "3                                          4 (inference)   \n",
       "4                                          4 (inference)   \n",
       "\n",
       "  5.3.1 Are the premises sufficient to draw the conclusion?  \\\n",
       "0                                             3 (undecided)   \n",
       "1                                             3 (undecided)   \n",
       "2                                            5 (sufficient)   \n",
       "3                                   2 (rather insufficient)   \n",
       "4                                             3 (undecided)   \n",
       "\n",
       "  5.1.2 How likely is it that the claim will be inferred from the context?  \\\n",
       "0                                                               4 (likely)   \n",
       "1                                                               4 (likely)   \n",
       "2                                                             3 (possible)   \n",
       "3                                                               4 (likely)   \n",
       "4                                                        1 (very unlikely)   \n",
       "\n",
       "   ...  \\\n",
       "0  ...   \n",
       "1  ...   \n",
       "2  ...   \n",
       "3  ...   \n",
       "4  ...   \n",
       "\n",
       "  76.3.2 How likely is it that the claim will be inferred from the context?  \\\n",
       "0                                                                4 (likely)   \n",
       "1                                                              3 (possible)   \n",
       "2                                                          5  (very likely)   \n",
       "3                                                              3 (possible)   \n",
       "4                                                                4 (likely)   \n",
       "\n",
       "  100.1.3 How can the claim be composed from the context?  \\\n",
       "0                                           4 (inference)   \n",
       "1                                           4 (inference)   \n",
       "2                                           4 (inference)   \n",
       "3                                           4 (inference)   \n",
       "4                                           4 (inference)   \n",
       "\n",
       "  87.1.2 How likely is it that the claim will be inferred from the context?  \\\n",
       "0                                                              3 (possible)   \n",
       "1                                                              3 (possible)   \n",
       "2                                                              3 (possible)   \n",
       "3                                                              3 (possible)   \n",
       "4                                                                4 (likely)   \n",
       "\n",
       "  76.3.3 How can the claim be composed from the context?  \\\n",
       "0                                          4 (inference)   \n",
       "1                                          4 (inference)   \n",
       "2                                 2 (synonymous copying)   \n",
       "3                                   3 (copying + fusion)   \n",
       "4                                          4 (inference)   \n",
       "\n",
       "  76.1.1 Are the premises sufficient to draw the conclusion?  \\\n",
       "0                                    2 (rather insufficient)   \n",
       "1                                              3 (undecided)   \n",
       "2                                      4 (rather sufficient)   \n",
       "3                                              3 (undecided)   \n",
       "4                                      4 (rather sufficient)   \n",
       "\n",
       "  77.1.1 Are the premises sufficient to draw the conclusion?  \\\n",
       "0                                         1 (not sufficient)   \n",
       "1                                              3 (undecided)   \n",
       "2                                              3 (undecided)   \n",
       "3                                              3 (undecided)   \n",
       "4                                      4 (rather sufficient)   \n",
       "\n",
       "  77.1.2 How likely is it that the claim will be inferred from the context?  \\\n",
       "0                                                              2 (unlikely)   \n",
       "1                                                              3 (possible)   \n",
       "2                                                              3 (possible)   \n",
       "3                                                                4 (likely)   \n",
       "4                                                              3 (possible)   \n",
       "\n",
       "  76.1.2 How likely is it that the claim will be inferred from the context?  \\\n",
       "0                                                                4 (likely)   \n",
       "1                                                              3 (possible)   \n",
       "2                                                                4 (likely)   \n",
       "3                                                                4 (likely)   \n",
       "4                                                              3 (possible)   \n",
       "\n",
       "  77.1.3 How can the claim be composed from the context?  \\\n",
       "0                                          4 (inference)   \n",
       "1                                          4 (inference)   \n",
       "2                                          4 (inference)   \n",
       "3                                          4 (inference)   \n",
       "4                                          4 (inference)   \n",
       "\n",
       "  76.1.3 How can the claim be composed from the context?  \n",
       "0                                          4 (inference)  \n",
       "1                                          4 (inference)  \n",
       "2                                 2 (synonymous copying)  \n",
       "3                                          4 (inference)  \n",
       "4                                          4 (inference)  \n",
       "\n",
       "[5 rows x 901 columns]"
      ]
     },
     "execution_count": 24,
     "metadata": {},
     "output_type": "execute_result"
    }
   ],
   "source": [
    "merged_df.head()"
   ]
  },
  {
   "cell_type": "markdown",
   "metadata": {},
   "source": [
    "---"
   ]
  },
  {
   "cell_type": "markdown",
   "metadata": {},
   "source": [
    "## IAA agreement"
   ]
  },
  {
   "cell_type": "markdown",
   "metadata": {},
   "source": [
    "### Question 1"
   ]
  },
  {
   "cell_type": "code",
   "execution_count": 30,
   "metadata": {},
   "outputs": [],
   "source": [
    "mapped_labels = {\n",
    "    '1 (not sufficient)': 0.0,\n",
    "    '2 (rather insufficient)': 1.0,\n",
    "    '3 (undecided)': 2.0,\n",
    "    '4 (rather sufficient)': 3.0,\n",
    "    '5 (sufficient)': 4.0,\n",
    "    '1 (very unlikely)': 0.0,\n",
    "    '2 (unlikely)': 1.0,\n",
    "    '3 (possible)': 2.0,\n",
    "    '4 (likely)': 3.0,\n",
    "    '5\\xa0\\xa0(very likely)': 4.0,\n",
    "    '1 (verbatim copying)': 0.0,\n",
    "    '2 (synonymous copying)': 1.0,\n",
    "    '3 (copying + fusion)': 2.0,\n",
    "    '4 (inference)': 3.0,\n",
    "    \"\"\"5 (can't be composed)\"\"\": 4.0,\n",
    "    'nan': 2.0\n",
    "}"
   ]
  },
  {
   "cell_type": "code",
   "execution_count": 34,
   "metadata": {},
   "outputs": [
    {
     "name": "stdout",
     "output_type": "stream",
     "text": [
      "Krippendorff's alpha for model1:  0.23050232444204177\n",
      "Krippendorff's alpha for model2:  0.3477454607110909\n",
      "Krippendorff's alpha for model3:  0.4298167128914223\n"
     ]
    }
   ],
   "source": [
    "for i in range(3):\n",
    "    merged_df_q1 = merged_df.loc[:, merged_df.columns.str.contains('{}.1 '.format(i+1), regex=False)]\n",
    "    reliability_data = merged_df_q1.values[:,1:]\n",
    "    reliability_data = np.vectorize(mapped_labels.get)(reliability_data)\n",
    "    print(\"Krippendorff's alpha for model{}: \".format(i+1), krippendorff.alpha(reliability_data=reliability_data,\n",
    "                                                                          level_of_measurement='ordinal'))"
   ]
  },
  {
   "cell_type": "markdown",
   "metadata": {},
   "source": [
    "### Question 2"
   ]
  },
  {
   "cell_type": "code",
   "execution_count": 41,
   "metadata": {},
   "outputs": [],
   "source": [
    "mapped_labels = {\n",
    "    '1 (not sufficient)': 0.0,\n",
    "    '2 (rather insufficient)': 1.0,\n",
    "    '3 (undecided)': 2.0,\n",
    "    '4 (rather sufficient)': 3.0,\n",
    "    '5 (sufficient)': 4.0,\n",
    "    '1 (very unlikely)': 0.0,\n",
    "    '2 (unlikely)': 1.0,\n",
    "    '3 (possible)': 2.0,\n",
    "    '4 (likely)': 3.0,\n",
    "    '5\\xa0\\xa0(very likely)': 4.0,\n",
    "    '1 (verbatim copying)': 0.0,\n",
    "    '2 (synonymous copying)': 1.0,\n",
    "    '3 (copying + fusion)': 2.0,\n",
    "    '4 (inference)': 3.0,\n",
    "    \"\"\"5 (can't be composed)\"\"\": 4.0,\n",
    "    'nan': 0.0\n",
    "}"
   ]
  },
  {
   "cell_type": "code",
   "execution_count": 42,
   "metadata": {},
   "outputs": [
    {
     "name": "stdout",
     "output_type": "stream",
     "text": [
      "Krippendorff's alpha for model1:  0.18556529799611676\n",
      "Krippendorff's alpha for model2:  0.2771922760715524\n",
      "Krippendorff's alpha for model3:  0.31821540074263976\n"
     ]
    }
   ],
   "source": [
    "for i in range(3):\n",
    "    merged_df_q1 = merged_df.loc[:, merged_df.columns.str.contains('{}.2 '.format(i+1), regex=False)]\n",
    "    reliability_data = merged_df_q1.values[:,1:]\n",
    "    reliability_data = np.vectorize(mapped_labels.get)(reliability_data)\n",
    "    print(\"Krippendorff's alpha for model{}: \".format(i+1), krippendorff.alpha(reliability_data=reliability_data,\n",
    "                                                                          level_of_measurement='ordinal'))"
   ]
  },
  {
   "cell_type": "markdown",
   "metadata": {},
   "source": [
    "### Question 3"
   ]
  },
  {
   "cell_type": "code",
   "execution_count": 43,
   "metadata": {},
   "outputs": [],
   "source": [
    "mapped_labels = {\n",
    "    '1 (not sufficient)': 0.0,\n",
    "    '2 (rather insufficient)': 1.0,\n",
    "    '3 (undecided)': 2.0,\n",
    "    '4 (rather sufficient)': 3.0,\n",
    "    '5 (sufficient)': 4.0,\n",
    "    '1 (very unlikely)': 0.0,\n",
    "    '2 (unlikely)': 1.0,\n",
    "    '3 (possible)': 2.0,\n",
    "    '4 (likely)': 3.0,\n",
    "    '5\\xa0\\xa0(very likely)': 4.0,\n",
    "    '1 (verbatim copying)': 0.0,\n",
    "    '2 (synonymous copying)': 1.0,\n",
    "    '3 (copying + fusion)': 2.0,\n",
    "    '4 (inference)': 3.0,\n",
    "    \"\"\"5 (can't be composed)\"\"\": 4.0,\n",
    "    'nan': 4.0\n",
    "}"
   ]
  },
  {
   "cell_type": "code",
   "execution_count": 44,
   "metadata": {},
   "outputs": [
    {
     "name": "stdout",
     "output_type": "stream",
     "text": [
      "Krippendorff's alpha for model1:  0.19077952248709684\n",
      "Krippendorff's alpha for model2:  0.3159853569426163\n",
      "Krippendorff's alpha for model3:  0.500648667928762\n"
     ]
    }
   ],
   "source": [
    "for i in range(3):\n",
    "    merged_df_q1 = merged_df.loc[:, merged_df.columns.str.contains('{}.3 '.format(i+1), regex=False)]\n",
    "    reliability_data = merged_df_q1.values[:,1:]\n",
    "    reliability_data = np.vectorize(mapped_labels.get)(reliability_data)\n",
    "    print(\"Krippendorff's alpha for model{}: \".format(i+1), krippendorff.alpha(reliability_data=reliability_data,\n",
    "                                                                          level_of_measurement='ordinal'))"
   ]
  },
  {
   "cell_type": "markdown",
   "metadata": {},
   "source": [
    "---"
   ]
  },
  {
   "cell_type": "markdown",
   "metadata": {},
   "source": [
    "## Majority agreement"
   ]
  },
  {
   "cell_type": "code",
   "execution_count": 45,
   "metadata": {},
   "outputs": [],
   "source": [
    "zero_cols = []\n",
    "for column in merged_df.columns:\n",
    "    if '0' in merged_df[column].values:\n",
    "        zero_cols.append(column)\n",
    "merged_df.drop(zero_cols, axis=1, inplace=True)"
   ]
  },
  {
   "cell_type": "code",
   "execution_count": 46,
   "metadata": {},
   "outputs": [],
   "source": [
    "merged_df = merged_df.replace({\n",
    "    '1 (not sufficient)': 0,\n",
    "    '2 (rather insufficient)': 1,\n",
    "    '3 (undecided)': 2,\n",
    "    '4 (rather sufficient)': 3,\n",
    "    '5 (sufficient)': 4,\n",
    "})\n",
    "merged_df = merged_df.replace({\n",
    "    '1 (very unlikely)': 0,\n",
    "    '2 (unlikely)': 1,\n",
    "    '3 (possible)': 2,\n",
    "    '4 (likely)': 3,\n",
    "    '5\\xa0\\xa0(very likely)': 4,\n",
    "})\n",
    "merged_df = merged_df.replace({\n",
    "    '1 (verbatim copying)': 0,\n",
    "    '2 (synonymous copying)': 1,\n",
    "    '3 (copying + fusion)': 2,\n",
    "    '4 (inference)': 3,\n",
    "    \"\"\"5 (can't be composed)\"\"\": 4,\n",
    "})"
   ]
  },
  {
   "cell_type": "code",
   "execution_count": 47,
   "metadata": {},
   "outputs": [],
   "source": [
    "study_df['idx'] = np.arange(len(study_df))"
   ]
  },
  {
   "cell_type": "code",
   "execution_count": 48,
   "metadata": {},
   "outputs": [],
   "source": [
    "def get_majority_ls(i, x):\n",
    "    counts = np.zeros(len(x))\n",
    "    values = np.arange(len(x))\n",
    "    x = [x_ if x_ != 'nan' else 2 for x_ in list(x)]\n",
    "    counts_sum = 0\n",
    "    for x_ in x:\n",
    "        counts[x_] += 1\n",
    "        counts_sum += values[x_]\n",
    "    if max(counts)>(len(x)/2):\n",
    "    #if counts_sum>10:\n",
    "        return 1\n",
    "    else:\n",
    "        return 0"
   ]
  },
  {
   "cell_type": "code",
   "execution_count": 49,
   "metadata": {},
   "outputs": [],
   "source": [
    "merged_df_ls = merged_df.loc[:, merged_df.columns.str.contains('.1 ', regex=False)]"
   ]
  },
  {
   "cell_type": "code",
   "execution_count": 50,
   "metadata": {},
   "outputs": [
    {
     "name": "stdout",
     "output_type": "stream",
     "text": [
      "0.63\n",
      "0.6\n",
      "0.63\n"
     ]
    }
   ],
   "source": [
    "study_df['majority_agreement_ls'] = study_df['idx'].apply(lambda x: get_majority_ls(x, merged_df_ls[str(x+1)+'.1.1 Are the premises sufficient to draw the conclusion?'].tolist()) if str(x+1)+'.1.1 Are the premises sufficient to draw the conclusion?' in merged_df_ls.columns else None)\n",
    "print(len(study_df[study_df['majority_agreement_ls']==1])/(len(study_df[study_df['majority_agreement_ls']==1])+len(study_df[study_df['majority_agreement_ls']==0])))\n",
    "study_df['majority_agreement_ls'] = study_df['idx'].apply(lambda x: get_majority_ls(x, merged_df_ls[str(x+1)+'.2.1 Are the premises sufficient to draw the conclusion?'].tolist()) if str(x+1)+'.2.1 Are the premises sufficient to draw the conclusion?' in merged_df_ls.columns else None)\n",
    "print(len(study_df[study_df['majority_agreement_ls']==1])/(len(study_df[study_df['majority_agreement_ls']==1])+len(study_df[study_df['majority_agreement_ls']==0])))\n",
    "study_df['majority_agreement_ls'] = study_df['idx'].apply(lambda x: get_majority_ls(x, merged_df_ls[str(x+1)+'.3.1 Are the premises sufficient to draw the conclusion?'].tolist()) if str(x+1)+'.3.1 Are the premises sufficient to draw the conclusion?' in merged_df_ls.columns else None)\n",
    "print(len(study_df[study_df['majority_agreement_ls']==1])/(len(study_df[study_df['majority_agreement_ls']==1])+len(study_df[study_df['majority_agreement_ls']==0])))"
   ]
  },
  {
   "cell_type": "code",
   "execution_count": 51,
   "metadata": {},
   "outputs": [],
   "source": [
    "def get_majority_ls(i, x):\n",
    "    counts = np.zeros(len(x))\n",
    "    values = np.arange(len(x))\n",
    "    x = [x_ if x_ != 'nan' else 0 for x_ in list(x)]\n",
    "    counts_sum = 0\n",
    "    for x_ in x:\n",
    "        counts[x_] += 1\n",
    "        counts_sum += values[x_]\n",
    "    if max(counts)>len(x)/2:\n",
    "    #if counts_sum>10:\n",
    "        return 1\n",
    "    else:\n",
    "        return 0"
   ]
  },
  {
   "cell_type": "code",
   "execution_count": 52,
   "metadata": {},
   "outputs": [],
   "source": [
    "merged_df_like = merged_df.loc[:, merged_df.columns.str.contains('.2 ', regex=False)]"
   ]
  },
  {
   "cell_type": "code",
   "execution_count": 53,
   "metadata": {},
   "outputs": [
    {
     "name": "stdout",
     "output_type": "stream",
     "text": [
      "0.57\n",
      "0.64\n",
      "0.64\n"
     ]
    }
   ],
   "source": [
    "study_df['majority_agreement_like'] = study_df['idx'].apply(lambda x: get_majority_ls(x, merged_df_like[str(x+1)+'.1.2 How likely is it that the claim will be inferred from the context?'].tolist()) if str(x+1)+'.1.2 How likely is it that the claim will be inferred from the context?' in merged_df_like.columns else None)\n",
    "print(len(study_df[study_df['majority_agreement_like']==1])/(len(study_df[study_df['majority_agreement_like']==1])+len(study_df[study_df['majority_agreement_like']==0])))\n",
    "study_df['majority_agreement_like'] = study_df['idx'].apply(lambda x: get_majority_ls(x, merged_df_like[str(x+1)+'.2.2 How likely is it that the claim will be inferred from the context?'].tolist()) if str(x+1)+'.2.2 How likely is it that the claim will be inferred from the context?' in merged_df_like.columns else None)\n",
    "print(len(study_df[study_df['majority_agreement_like']==1])/(len(study_df[study_df['majority_agreement_like']==1])+len(study_df[study_df['majority_agreement_like']==0])))\n",
    "study_df['majority_agreement_like'] = study_df['idx'].apply(lambda x: get_majority_ls(x, merged_df_like[str(x+1)+'.3.2 How likely is it that the claim will be inferred from the context?'].tolist()) if str(x+1)+'.3.2 How likely is it that the claim will be inferred from the context?' in merged_df_like.columns else None)\n",
    "print(len(study_df[study_df['majority_agreement_like']==1])/(len(study_df[study_df['majority_agreement_like']==1])+len(study_df[study_df['majority_agreement_like']==0])))"
   ]
  },
  {
   "cell_type": "code",
   "execution_count": 54,
   "metadata": {},
   "outputs": [],
   "source": [
    "merged_df_novelty = merged_df.loc[:, merged_df.columns.str.contains('.3 ', regex=False)]"
   ]
  },
  {
   "cell_type": "code",
   "execution_count": 55,
   "metadata": {},
   "outputs": [],
   "source": [
    "def get_majority_ls(i, x):\n",
    "    counts = np.zeros(len(x))\n",
    "    values = np.arange(len(x))\n",
    "    x = [x_ if x_ != 'nan' else 4 for x_ in list(x)]\n",
    "    counts_sum = 0\n",
    "    for x_ in x:\n",
    "        counts[x_] += 1\n",
    "        counts_sum += values[x_]\n",
    "    if max(counts)>len(x)/2:\n",
    "    #if counts_sum>10:\n",
    "        return 1\n",
    "    else:\n",
    "        return 0"
   ]
  },
  {
   "cell_type": "code",
   "execution_count": 56,
   "metadata": {},
   "outputs": [
    {
     "name": "stdout",
     "output_type": "stream",
     "text": [
      "0.82\n",
      "0.72\n",
      "0.8\n"
     ]
    }
   ],
   "source": [
    "study_df['majority_agreement_novelty'] = study_df['idx'].apply(lambda x: get_majority_ls(x, merged_df_novelty[str(x+1)+'.1.3 How can the claim be composed from the context?'].tolist()) if str(x+1)+'.1.3 How can the claim be composed from the context?' in merged_df_novelty.columns else None)\n",
    "print(len(study_df[study_df['majority_agreement_novelty']==1])/(len(study_df[study_df['majority_agreement_novelty']==1])+len(study_df[study_df['majority_agreement_novelty']==0])))\n",
    "study_df['majority_agreement_novelty'] = study_df['idx'].apply(lambda x: get_majority_ls(x, merged_df_novelty[str(x+1)+'.2.3 How can the claim be composed from the context?'].tolist()) if str(x+1)+'.2.3 How can the claim be composed from the context?' in merged_df_novelty.columns else None)\n",
    "print(len(study_df[study_df['majority_agreement_novelty']==1])/(len(study_df[study_df['majority_agreement_novelty']==1])+len(study_df[study_df['majority_agreement_novelty']==0])))\n",
    "study_df['majority_agreement_novelty'] = study_df['idx'].apply(lambda x: get_majority_ls(x, merged_df_novelty[str(x+1)+'.3.3 How can the claim be composed from the context?'].tolist()) if str(x+1)+'.3.3 How can the claim be composed from the context?' in merged_df_novelty.columns else None)\n",
    "print(len(study_df[study_df['majority_agreement_novelty']==1])/(len(study_df[study_df['majority_agreement_novelty']==1])+len(study_df[study_df['majority_agreement_novelty']==0])))"
   ]
  },
  {
   "cell_type": "markdown",
   "metadata": {},
   "source": [
    "---"
   ]
  },
  {
   "cell_type": "markdown",
   "metadata": {},
   "source": [
    "## Majority Scores"
   ]
  },
  {
   "cell_type": "code",
   "execution_count": 41,
   "metadata": {},
   "outputs": [],
   "source": [
    "def get_majority_ls(i, x):\n",
    "    counts = np.zeros(len(x))\n",
    "    values = np.arange(len(x))\n",
    "    x = [x_ if x_ != 'nan' else 2 for x_ in list(x)]\n",
    "    counts_sum = 0\n",
    "    for x_ in x:\n",
    "        counts[x_] += 1\n",
    "        counts_sum += values[x_]\n",
    "    winner = np.argwhere(counts == np.amax(counts)).flatten().tolist()\n",
    "    if len(winner)>1:\n",
    "        return int(np.mean(x))\n",
    "    else:\n",
    "        return winner[0]"
   ]
  },
  {
   "cell_type": "code",
   "execution_count": 42,
   "metadata": {},
   "outputs": [],
   "source": [
    "merged_df_ls = merged_df.loc[:, merged_df.columns.str.contains('.1 ', regex=False)]"
   ]
  },
  {
   "cell_type": "code",
   "execution_count": 43,
   "metadata": {},
   "outputs": [
    {
     "name": "stdout",
     "output_type": "stream",
     "text": [
      "2    39\n",
      "3    30\n",
      "1    24\n",
      "0     7\n",
      "Name: majority_agreement_ls, dtype: int64\n",
      "100\n",
      "3    34\n",
      "2    30\n",
      "1    21\n",
      "0    14\n",
      "4     1\n",
      "Name: majority_agreement_ls, dtype: int64\n",
      "100\n",
      "2    34\n",
      "3    32\n",
      "1    19\n",
      "0    14\n",
      "4     1\n",
      "Name: majority_agreement_ls, dtype: int64\n",
      "100\n"
     ]
    }
   ],
   "source": [
    "study_df['majority_agreement_ls'] = study_df['idx'].apply(lambda x: get_majority_ls(x, merged_df_ls[str(x+1)+'.1.1 Are the premises sufficient to draw the conclusion?'].tolist()) if str(x+1)+'.1.1 Are the premises sufficient to draw the conclusion?' in merged_df_ls.columns else None)\n",
    "print(study_df['majority_agreement_ls'].value_counts())\n",
    "print(len(study_df['majority_agreement_ls']))\n",
    "study_df['majority_agreement_ls'] = study_df['idx'].apply(lambda x: get_majority_ls(x, merged_df_ls[str(x+1)+'.2.1 Are the premises sufficient to draw the conclusion?'].tolist()) if str(x+1)+'.2.1 Are the premises sufficient to draw the conclusion?' in merged_df_ls.columns else None)\n",
    "print(study_df['majority_agreement_ls'].value_counts())\n",
    "print(len(study_df['majority_agreement_ls']))\n",
    "study_df['majority_agreement_ls'] = study_df['idx'].apply(lambda x: get_majority_ls(x, merged_df_ls[str(x+1)+'.3.1 Are the premises sufficient to draw the conclusion?'].tolist()) if str(x+1)+'.3.1 Are the premises sufficient to draw the conclusion?' in merged_df_ls.columns else None)\n",
    "print(study_df['majority_agreement_ls'].value_counts())\n",
    "print(len(study_df['majority_agreement_ls']))"
   ]
  },
  {
   "cell_type": "code",
   "execution_count": 44,
   "metadata": {},
   "outputs": [],
   "source": [
    "merged_df_like = merged_df.loc[:, merged_df.columns.str.contains('.2 ', regex=False)]"
   ]
  },
  {
   "cell_type": "code",
   "execution_count": 45,
   "metadata": {},
   "outputs": [],
   "source": [
    "def get_majority_ls(i, x):\n",
    "    counts = np.zeros(len(x))\n",
    "    values = np.arange(len(x))\n",
    "    x = [x_ if x_ != 'nan' else 0 for x_ in list(x)]\n",
    "    counts_sum = 0\n",
    "    for x_ in x:\n",
    "        counts[x_] += 1\n",
    "        counts_sum += values[x_]\n",
    "    winner = np.argwhere(counts == np.amax(counts)).flatten().tolist()\n",
    "    if len(winner)>1:\n",
    "        return int(np.mean(x))\n",
    "    else:\n",
    "        return winner[0]"
   ]
  },
  {
   "cell_type": "code",
   "execution_count": 46,
   "metadata": {},
   "outputs": [
    {
     "name": "stdout",
     "output_type": "stream",
     "text": [
      "2    54\n",
      "3    24\n",
      "1    18\n",
      "0     4\n",
      "Name: majority_agreement_like, dtype: int64\n",
      "2    38\n",
      "3    35\n",
      "1    15\n",
      "0    12\n",
      "Name: majority_agreement_like, dtype: int64\n",
      "2    46\n",
      "3    23\n",
      "0    16\n",
      "1    15\n",
      "Name: majority_agreement_like, dtype: int64\n"
     ]
    }
   ],
   "source": [
    "study_df['majority_agreement_like'] = study_df['idx'].apply(lambda x: get_majority_ls(x, merged_df_like[str(x+1)+'.1.2 How likely is it that the claim will be inferred from the context?'].tolist()) if str(x+1)+'.1.2 How likely is it that the claim will be inferred from the context?' in merged_df_like.columns else None)\n",
    "print(study_df['majority_agreement_like'].value_counts())\n",
    "study_df['majority_agreement_like'] = study_df['idx'].apply(lambda x: get_majority_ls(x, merged_df_like[str(x+1)+'.2.2 How likely is it that the claim will be inferred from the context?'].tolist()) if str(x+1)+'.2.2 How likely is it that the claim will be inferred from the context?' in merged_df_like.columns else None)\n",
    "print(study_df['majority_agreement_like'].value_counts())\n",
    "study_df['majority_agreement_like'] = study_df['idx'].apply(lambda x: get_majority_ls(x, merged_df_like[str(x+1)+'.3.2 How likely is it that the claim will be inferred from the context?'].tolist()) if str(x+1)+'.3.2 How likely is it that the claim will be inferred from the context?' in merged_df_like.columns else None)\n",
    "print(study_df['majority_agreement_like'].value_counts())"
   ]
  },
  {
   "cell_type": "code",
   "execution_count": 47,
   "metadata": {},
   "outputs": [],
   "source": [
    "merged_df_novelty = merged_df.loc[:, merged_df.columns.str.contains('.3 ', regex=False)]"
   ]
  },
  {
   "cell_type": "code",
   "execution_count": 48,
   "metadata": {},
   "outputs": [],
   "source": [
    "def get_majority_ls(i, x):\n",
    "    counts = np.zeros(len(x))\n",
    "    values = np.arange(len(x))\n",
    "    x = [x_ if x_ != 'nan' else 4 for x_ in list(x)]\n",
    "    counts_sum = 0\n",
    "    for x_ in x:\n",
    "        counts[x_] += 1\n",
    "        counts_sum += values[x_]\n",
    "    winner = np.argwhere(counts == np.amax(counts)).flatten().tolist()\n",
    "    if len(winner)>1:\n",
    "        return int(np.mean(x))\n",
    "    else:\n",
    "        return winner[0]"
   ]
  },
  {
   "cell_type": "code",
   "execution_count": 49,
   "metadata": {
    "scrolled": true
   },
   "outputs": [
    {
     "name": "stdout",
     "output_type": "stream",
     "text": [
      "3    73\n",
      "2    18\n",
      "4     5\n",
      "1     4\n",
      "Name: majority_agreement_novelty, dtype: int64\n",
      "3    53\n",
      "2    22\n",
      "4     9\n",
      "1     8\n",
      "0     8\n",
      "Name: majority_agreement_novelty, dtype: int64\n",
      "3    47\n",
      "2    15\n",
      "0    14\n",
      "4    13\n",
      "1    11\n",
      "Name: majority_agreement_novelty, dtype: int64\n"
     ]
    }
   ],
   "source": [
    "study_df['majority_agreement_novelty'] = study_df['idx'].apply(lambda x: get_majority_ls(x, merged_df_novelty[str(x+1)+'.1.3 How can the claim be composed from the context?'].tolist()) if str(x+1)+'.1.3 How can the claim be composed from the context?' in merged_df_novelty.columns else None)\n",
    "print(study_df['majority_agreement_novelty'].value_counts())\n",
    "study_df['majority_agreement_novelty'] = study_df['idx'].apply(lambda x: get_majority_ls(x, merged_df_novelty[str(x+1)+'.2.3 How can the claim be composed from the context?'].tolist()) if str(x+1)+'.2.3 How can the claim be composed from the context?' in merged_df_novelty.columns else None)\n",
    "print(study_df['majority_agreement_novelty'].value_counts())\n",
    "study_df['majority_agreement_novelty'] = study_df['idx'].apply(lambda x: get_majority_ls(x, merged_df_novelty[str(x+1)+'.3.3 How can the claim be composed from the context?'].tolist()) if str(x+1)+'.3.3 How can the claim be composed from the context?' in merged_df_novelty.columns else None)\n",
    "print(study_df['majority_agreement_novelty'].value_counts())"
   ]
  },
  {
   "cell_type": "markdown",
   "metadata": {},
   "source": [
    "---"
   ]
  },
  {
   "cell_type": "markdown",
   "metadata": {},
   "source": [
    "## Ranks"
   ]
  },
  {
   "cell_type": "markdown",
   "metadata": {},
   "source": [
    "### Question 1"
   ]
  },
  {
   "cell_type": "code",
   "execution_count": 57,
   "metadata": {},
   "outputs": [],
   "source": [
    "def get_majority_ls(i, x):\n",
    "    counts = np.zeros(len(x))\n",
    "    values = np.arange(len(x))\n",
    "    x = [x_ if x_ != 'nan' else 2 for x_ in list(x)]\n",
    "    counts_sum = 0\n",
    "    for x_ in x:\n",
    "        counts[x_] += 1\n",
    "        counts_sum += values[x_]\n",
    "    winner = np.argwhere(counts == np.amax(counts)).flatten().tolist()\n",
    "    if len(winner)>1:\n",
    "        return int(np.mean(x))\n",
    "    else:\n",
    "        return winner[0]"
   ]
  },
  {
   "cell_type": "code",
   "execution_count": 58,
   "metadata": {},
   "outputs": [],
   "source": [
    "tmp_df1 = merged_df.loc[:, merged_df.columns.str.contains('.{}.1'.format(1), regex=False)]\n",
    "tmp_df2 = merged_df.loc[:, merged_df.columns.str.contains('.{}.1'.format(2), regex=False)]\n",
    "tmp_df3 = merged_df.loc[:, merged_df.columns.str.contains('.{}.1'.format(3), regex=False)]"
   ]
  },
  {
   "cell_type": "code",
   "execution_count": 59,
   "metadata": {},
   "outputs": [],
   "source": [
    "tmp_df1_cols = [x.replace('.1.1','.').split('.')[0] for x in tmp_df1.columns]\n",
    "tmp_df2_cols = [x.replace('.2.1','.').split('.')[0] for x in tmp_df2.columns]\n",
    "tmp_df3_cols = [x.replace('.3.1','.').split('.')[0] for x in tmp_df3.columns]"
   ]
  },
  {
   "cell_type": "code",
   "execution_count": 60,
   "metadata": {},
   "outputs": [],
   "source": [
    "col_lists = [tmp_df1_cols,tmp_df2_cols,tmp_df3_cols]"
   ]
  },
  {
   "cell_type": "code",
   "execution_count": 61,
   "metadata": {},
   "outputs": [],
   "source": [
    "cols = list(set.intersection(*[set(x) for x in col_lists]))"
   ]
  },
  {
   "cell_type": "code",
   "execution_count": 62,
   "metadata": {},
   "outputs": [
    {
     "data": {
      "text/plain": [
       "100"
      ]
     },
     "execution_count": 62,
     "metadata": {},
     "output_type": "execute_result"
    }
   ],
   "source": [
    "len(cols)"
   ]
  },
  {
   "cell_type": "code",
   "execution_count": 63,
   "metadata": {},
   "outputs": [],
   "source": [
    "import scipy.stats as ss"
   ]
  },
  {
   "cell_type": "code",
   "execution_count": 64,
   "metadata": {},
   "outputs": [],
   "source": [
    "majority_scores = {}\n",
    "for tmp_df in [tmp_df1,tmp_df2,tmp_df3]:\n",
    "    for col in tmp_df.columns:\n",
    "        if col != 'Submission IP':\n",
    "            if col.split('.')[0] in cols:\n",
    "                if col.split('.')[2][0] =='1':\n",
    "                    if col.split('.')[0] not in majority_scores:\n",
    "                        majority_scores[col.split('.')[0]] = []\n",
    "                    majority_scores[col.split('.')[0]].append(get_majority_ls(1,merged_df[col]))"
   ]
  },
  {
   "cell_type": "code",
   "execution_count": 65,
   "metadata": {},
   "outputs": [],
   "source": [
    "for key, value in majority_scores.items():\n",
    "    majority_scores[key] = ss.rankdata(value, method='dense')"
   ]
  },
  {
   "cell_type": "code",
   "execution_count": 67,
   "metadata": {},
   "outputs": [
    {
     "data": {
      "text/plain": [
       "array([1.43, 1.37, 1.4 ])"
      ]
     },
     "execution_count": 67,
     "metadata": {},
     "output_type": "execute_result"
    }
   ],
   "source": [
    "abs(np.mean(list(majority_scores.values()),axis=0)-3)"
   ]
  },
  {
   "cell_type": "markdown",
   "metadata": {},
   "source": [
    "### Question 2"
   ]
  },
  {
   "cell_type": "code",
   "execution_count": 68,
   "metadata": {},
   "outputs": [],
   "source": [
    "def get_majority_ls(i, x):\n",
    "    counts = np.zeros(len(x))\n",
    "    values = np.arange(len(x))\n",
    "    x = [x_ if x_ != 'nan' else 0 for x_ in list(x)]\n",
    "    counts_sum = 0\n",
    "    for x_ in x:\n",
    "        counts[x_] += 1\n",
    "        counts_sum += values[x_]\n",
    "    winner = np.argwhere(counts == np.amax(counts)).flatten().tolist()\n",
    "    if len(winner)>1:\n",
    "        return int(np.mean(x))\n",
    "    else:\n",
    "        return winner[0]"
   ]
  },
  {
   "cell_type": "code",
   "execution_count": 69,
   "metadata": {},
   "outputs": [],
   "source": [
    "tmp_df1 = merged_df.loc[:, merged_df.columns.str.contains('.{}.2'.format(1), regex=False)]\n",
    "tmp_df2 = merged_df.loc[:, merged_df.columns.str.contains('.{}.2'.format(2), regex=False)]\n",
    "tmp_df3 = merged_df.loc[:, merged_df.columns.str.contains('.{}.2'.format(3), regex=False)]"
   ]
  },
  {
   "cell_type": "code",
   "execution_count": 70,
   "metadata": {},
   "outputs": [
    {
     "data": {
      "text/plain": [
       "100"
      ]
     },
     "execution_count": 70,
     "metadata": {},
     "output_type": "execute_result"
    }
   ],
   "source": [
    "len(tmp_df3_cols)"
   ]
  },
  {
   "cell_type": "code",
   "execution_count": 71,
   "metadata": {},
   "outputs": [],
   "source": [
    "tmp_df1_cols = [x.replace('.1.2','.').split('.')[0] for x in tmp_df1.columns]\n",
    "tmp_df2_cols = [x.replace('.2.2','.').split('.')[0] for x in tmp_df2.columns]\n",
    "tmp_df3_cols = [x.replace('.3.2','.').split('.')[0] for x in tmp_df3.columns]"
   ]
  },
  {
   "cell_type": "code",
   "execution_count": 72,
   "metadata": {},
   "outputs": [],
   "source": [
    "col_lists = [tmp_df1_cols,tmp_df2_cols,tmp_df3_cols]"
   ]
  },
  {
   "cell_type": "code",
   "execution_count": 73,
   "metadata": {},
   "outputs": [],
   "source": [
    "cols = list(set.intersection(*[set(x) for x in col_lists]))"
   ]
  },
  {
   "cell_type": "code",
   "execution_count": 74,
   "metadata": {},
   "outputs": [
    {
     "data": {
      "text/plain": [
       "100"
      ]
     },
     "execution_count": 74,
     "metadata": {},
     "output_type": "execute_result"
    }
   ],
   "source": [
    "len(cols)"
   ]
  },
  {
   "cell_type": "code",
   "execution_count": 75,
   "metadata": {},
   "outputs": [],
   "source": [
    "majority_scores = {}\n",
    "for tmp_df in [tmp_df1,tmp_df2,tmp_df3]:\n",
    "    for col in tmp_df.columns:\n",
    "        if col != 'Submission IP':\n",
    "            if col.split('.')[0] in cols:\n",
    "                if col.split('.')[2][0] =='2':\n",
    "                    if col.split('.')[0] not in majority_scores:\n",
    "                        majority_scores[col.split('.')[0]] = []\n",
    "                    majority_scores[col.split('.')[0]].append(get_majority_ls(1,merged_df[col]))"
   ]
  },
  {
   "cell_type": "code",
   "execution_count": 76,
   "metadata": {},
   "outputs": [],
   "source": [
    "for key, value in majority_scores.items():\n",
    "    majority_scores[key] = ss.rankdata(value, method='dense')"
   ]
  },
  {
   "cell_type": "code",
   "execution_count": 77,
   "metadata": {},
   "outputs": [
    {
     "data": {
      "text/plain": [
       "array([1.42, 1.39, 1.54])"
      ]
     },
     "execution_count": 77,
     "metadata": {},
     "output_type": "execute_result"
    }
   ],
   "source": [
    "abs(np.mean(list(majority_scores.values()),axis=0)-3)"
   ]
  },
  {
   "cell_type": "markdown",
   "metadata": {},
   "source": [
    "### Question 3"
   ]
  },
  {
   "cell_type": "code",
   "execution_count": 78,
   "metadata": {},
   "outputs": [],
   "source": [
    "def get_majority_ls(i, x):\n",
    "    counts = np.zeros(len(x))\n",
    "    values = np.arange(len(x))\n",
    "    x = [x_ if x_ != 'nan' else 4 for x_ in list(x)]\n",
    "    counts_sum = 0\n",
    "    for x_ in x:\n",
    "        counts[x_] += 1\n",
    "        counts_sum += values[x_]\n",
    "    winner = np.argwhere(counts == np.amax(counts)).flatten().tolist()\n",
    "    if len(winner)>1:\n",
    "        return int(np.mean(x))\n",
    "    else:\n",
    "        return winner[0]"
   ]
  },
  {
   "cell_type": "code",
   "execution_count": 79,
   "metadata": {},
   "outputs": [],
   "source": [
    "tmp_df1 = merged_df.loc[:, merged_df.columns.str.contains('.{}.3'.format(1), regex=False)]\n",
    "tmp_df2 = merged_df.loc[:, merged_df.columns.str.contains('.{}.3'.format(2), regex=False)]\n",
    "tmp_df3 = merged_df.loc[:, merged_df.columns.str.contains('.{}.3'.format(3), regex=False)]"
   ]
  },
  {
   "cell_type": "code",
   "execution_count": 80,
   "metadata": {},
   "outputs": [
    {
     "data": {
      "text/plain": [
       "100"
      ]
     },
     "execution_count": 80,
     "metadata": {},
     "output_type": "execute_result"
    }
   ],
   "source": [
    "len(tmp_df3_cols)"
   ]
  },
  {
   "cell_type": "code",
   "execution_count": 81,
   "metadata": {},
   "outputs": [],
   "source": [
    "tmp_df1_cols = [x.replace('.1.3','.').split('.')[0] for x in tmp_df1.columns]\n",
    "tmp_df2_cols = [x.replace('.2.3','.').split('.')[0] for x in tmp_df2.columns]\n",
    "tmp_df3_cols = [x.replace('.3.3','.').split('.')[0] for x in tmp_df3.columns]"
   ]
  },
  {
   "cell_type": "code",
   "execution_count": 82,
   "metadata": {},
   "outputs": [],
   "source": [
    "col_lists = [tmp_df1_cols,tmp_df2_cols,tmp_df3_cols]"
   ]
  },
  {
   "cell_type": "code",
   "execution_count": 83,
   "metadata": {},
   "outputs": [],
   "source": [
    "cols = list(set.intersection(*[set(x) for x in col_lists]))"
   ]
  },
  {
   "cell_type": "code",
   "execution_count": 84,
   "metadata": {},
   "outputs": [
    {
     "data": {
      "text/plain": [
       "100"
      ]
     },
     "execution_count": 84,
     "metadata": {},
     "output_type": "execute_result"
    }
   ],
   "source": [
    "len(cols)"
   ]
  },
  {
   "cell_type": "code",
   "execution_count": 85,
   "metadata": {},
   "outputs": [],
   "source": [
    "majority_scores = {}\n",
    "for tmp_df in [tmp_df1,tmp_df2,tmp_df3]:\n",
    "    for col in tmp_df.columns:\n",
    "        if col != 'Submission IP':\n",
    "            if col.split('.')[0] in cols:\n",
    "                if col.split('.')[2][0] =='3':\n",
    "                    if col.split('.')[0] not in majority_scores:\n",
    "                        majority_scores[col.split('.')[0]] = []\n",
    "                    majority_scores[col.split('.')[0]].append(get_majority_ls(1,merged_df[col]))"
   ]
  },
  {
   "cell_type": "code",
   "execution_count": 86,
   "metadata": {},
   "outputs": [],
   "source": [
    "for key, value in majority_scores.items():\n",
    "    majority_scores[key] = ss.rankdata(value, method='dense')"
   ]
  },
  {
   "cell_type": "code",
   "execution_count": 87,
   "metadata": {},
   "outputs": [
    {
     "data": {
      "text/plain": [
       "array([1.39, 1.54, 1.54])"
      ]
     },
     "execution_count": 87,
     "metadata": {},
     "output_type": "execute_result"
    }
   ],
   "source": [
    "abs(np.mean(list(majority_scores.values()),axis=0)-3)"
   ]
  }
 ],
 "metadata": {
  "kernelspec": {
   "display_name": "default",
   "language": "python",
   "name": "default"
  },
  "language_info": {
   "codemirror_mode": {
    "name": "ipython",
    "version": 3
   },
   "file_extension": ".py",
   "mimetype": "text/x-python",
   "name": "python",
   "nbconvert_exporter": "python",
   "pygments_lexer": "ipython3",
   "version": "3.6.9"
  }
 },
 "nbformat": 4,
 "nbformat_minor": 2
}
